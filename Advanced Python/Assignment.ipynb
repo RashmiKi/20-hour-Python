{
 "cells": [
  {
   "cell_type": "markdown",
   "id": "5cf6a032",
   "metadata": {},
   "source": [
    "Advanced Python Assignment by Aariyan Sir"
   ]
  },
  {
   "cell_type": "code",
   "execution_count": 1,
   "id": "5c8ea839",
   "metadata": {},
   "outputs": [],
   "source": [
    "import pandas as pd\n",
    "import matplotlib.pyplot as plt"
   ]
  },
  {
   "cell_type": "code",
   "execution_count": 2,
   "id": "6611cdfe",
   "metadata": {},
   "outputs": [
    {
     "data": {
      "text/html": [
       "<div>\n",
       "<style scoped>\n",
       "    .dataframe tbody tr th:only-of-type {\n",
       "        vertical-align: middle;\n",
       "    }\n",
       "\n",
       "    .dataframe tbody tr th {\n",
       "        vertical-align: top;\n",
       "    }\n",
       "\n",
       "    .dataframe thead th {\n",
       "        text-align: right;\n",
       "    }\n",
       "</style>\n",
       "<table border=\"1\" class=\"dataframe\">\n",
       "  <thead>\n",
       "    <tr style=\"text-align: right;\">\n",
       "      <th></th>\n",
       "      <th>OrderID</th>\n",
       "      <th>Date</th>\n",
       "      <th>Customer</th>\n",
       "      <th>Product</th>\n",
       "      <th>Amount</th>\n",
       "    </tr>\n",
       "  </thead>\n",
       "  <tbody>\n",
       "    <tr>\n",
       "      <th>0</th>\n",
       "      <td>1</td>\n",
       "      <td>15-01-2024</td>\n",
       "      <td>Raj</td>\n",
       "      <td>Laptop</td>\n",
       "      <td>50000</td>\n",
       "    </tr>\n",
       "    <tr>\n",
       "      <th>1</th>\n",
       "      <td>2</td>\n",
       "      <td>20-01-2024</td>\n",
       "      <td>Meera</td>\n",
       "      <td>Phone</td>\n",
       "      <td>30000</td>\n",
       "    </tr>\n",
       "    <tr>\n",
       "      <th>2</th>\n",
       "      <td>3</td>\n",
       "      <td>10-02-2024</td>\n",
       "      <td>Raj</td>\n",
       "      <td>Laptop</td>\n",
       "      <td>55000</td>\n",
       "    </tr>\n",
       "    <tr>\n",
       "      <th>3</th>\n",
       "      <td>4</td>\n",
       "      <td>15-02-2024</td>\n",
       "      <td>Priya</td>\n",
       "      <td>Tablet</td>\n",
       "      <td>25000</td>\n",
       "    </tr>\n",
       "    <tr>\n",
       "      <th>4</th>\n",
       "      <td>5</td>\n",
       "      <td>05-03-2024</td>\n",
       "      <td>Meera</td>\n",
       "      <td>Phone</td>\n",
       "      <td>32000</td>\n",
       "    </tr>\n",
       "  </tbody>\n",
       "</table>\n",
       "</div>"
      ],
      "text/plain": [
       "   OrderID        Date Customer Product  Amount\n",
       "0        1  15-01-2024      Raj  Laptop   50000\n",
       "1        2  20-01-2024    Meera   Phone   30000\n",
       "2        3  10-02-2024      Raj  Laptop   55000\n",
       "3        4  15-02-2024    Priya  Tablet   25000\n",
       "4        5  05-03-2024    Meera   Phone   32000"
      ]
     },
     "execution_count": 2,
     "metadata": {},
     "output_type": "execute_result"
    }
   ],
   "source": [
    "df = pd.read_csv(r\"D:\\Python\\20-hour-Python\\Advanced Python\\dataset_adv.csv\")\n",
    "\n",
    "df.head()"
   ]
  },
  {
   "cell_type": "code",
   "execution_count": 3,
   "id": "56cb2483",
   "metadata": {},
   "outputs": [
    {
     "name": "stdout",
     "output_type": "stream",
     "text": [
      "datetime64[ns]\n"
     ]
    },
    {
     "name": "stderr",
     "output_type": "stream",
     "text": [
      "C:\\Users\\Rashmi\\AppData\\Local\\Temp\\ipykernel_14316\\3475226320.py:1: UserWarning: Parsing dates in %d-%m-%Y format when dayfirst=False (the default) was specified. Pass `dayfirst=True` or specify a format to silence this warning.\n",
      "  df[\"Date\"] = pd.to_datetime(df[\"Date\"])\n"
     ]
    }
   ],
   "source": [
    "df[\"Date\"] = pd.to_datetime(df[\"Date\"])\n",
    "print(df[\"Date\"].dtype)"
   ]
  },
  {
   "cell_type": "code",
   "execution_count": 4,
   "id": "31899739",
   "metadata": {},
   "outputs": [
    {
     "data": {
      "text/html": [
       "<div>\n",
       "<style scoped>\n",
       "    .dataframe tbody tr th:only-of-type {\n",
       "        vertical-align: middle;\n",
       "    }\n",
       "\n",
       "    .dataframe tbody tr th {\n",
       "        vertical-align: top;\n",
       "    }\n",
       "\n",
       "    .dataframe thead th {\n",
       "        text-align: right;\n",
       "    }\n",
       "</style>\n",
       "<table border=\"1\" class=\"dataframe\">\n",
       "  <thead>\n",
       "    <tr style=\"text-align: right;\">\n",
       "      <th></th>\n",
       "      <th>OrderID</th>\n",
       "      <th>Date</th>\n",
       "      <th>Customer</th>\n",
       "      <th>Product</th>\n",
       "      <th>Amount</th>\n",
       "      <th>Month</th>\n",
       "    </tr>\n",
       "  </thead>\n",
       "  <tbody>\n",
       "    <tr>\n",
       "      <th>0</th>\n",
       "      <td>1</td>\n",
       "      <td>2024-01-15</td>\n",
       "      <td>Raj</td>\n",
       "      <td>Laptop</td>\n",
       "      <td>50000</td>\n",
       "      <td>January</td>\n",
       "    </tr>\n",
       "    <tr>\n",
       "      <th>1</th>\n",
       "      <td>2</td>\n",
       "      <td>2024-01-20</td>\n",
       "      <td>Meera</td>\n",
       "      <td>Phone</td>\n",
       "      <td>30000</td>\n",
       "      <td>January</td>\n",
       "    </tr>\n",
       "    <tr>\n",
       "      <th>2</th>\n",
       "      <td>3</td>\n",
       "      <td>2024-02-10</td>\n",
       "      <td>Raj</td>\n",
       "      <td>Laptop</td>\n",
       "      <td>55000</td>\n",
       "      <td>February</td>\n",
       "    </tr>\n",
       "    <tr>\n",
       "      <th>3</th>\n",
       "      <td>4</td>\n",
       "      <td>2024-02-15</td>\n",
       "      <td>Priya</td>\n",
       "      <td>Tablet</td>\n",
       "      <td>25000</td>\n",
       "      <td>February</td>\n",
       "    </tr>\n",
       "    <tr>\n",
       "      <th>4</th>\n",
       "      <td>5</td>\n",
       "      <td>2024-03-05</td>\n",
       "      <td>Meera</td>\n",
       "      <td>Phone</td>\n",
       "      <td>32000</td>\n",
       "      <td>March</td>\n",
       "    </tr>\n",
       "  </tbody>\n",
       "</table>\n",
       "</div>"
      ],
      "text/plain": [
       "   OrderID       Date Customer Product  Amount     Month\n",
       "0        1 2024-01-15      Raj  Laptop   50000   January\n",
       "1        2 2024-01-20    Meera   Phone   30000   January\n",
       "2        3 2024-02-10      Raj  Laptop   55000  February\n",
       "3        4 2024-02-15    Priya  Tablet   25000  February\n",
       "4        5 2024-03-05    Meera   Phone   32000     March"
      ]
     },
     "execution_count": 4,
     "metadata": {},
     "output_type": "execute_result"
    }
   ],
   "source": [
    "df[\"Month\"] = df[\"Date\"].dt.month_name()\n",
    "df.head()"
   ]
  },
  {
   "cell_type": "code",
   "execution_count": 5,
   "id": "fb1eaa1a",
   "metadata": {},
   "outputs": [
    {
     "data": {
      "text/html": [
       "<div>\n",
       "<style scoped>\n",
       "    .dataframe tbody tr th:only-of-type {\n",
       "        vertical-align: middle;\n",
       "    }\n",
       "\n",
       "    .dataframe tbody tr th {\n",
       "        vertical-align: top;\n",
       "    }\n",
       "\n",
       "    .dataframe thead th {\n",
       "        text-align: right;\n",
       "    }\n",
       "</style>\n",
       "<table border=\"1\" class=\"dataframe\">\n",
       "  <thead>\n",
       "    <tr style=\"text-align: right;\">\n",
       "      <th></th>\n",
       "      <th>OrderID</th>\n",
       "      <th>Date</th>\n",
       "      <th>Customer</th>\n",
       "      <th>Product</th>\n",
       "      <th>Amount</th>\n",
       "      <th>Month</th>\n",
       "    </tr>\n",
       "  </thead>\n",
       "  <tbody>\n",
       "    <tr>\n",
       "      <th>0</th>\n",
       "      <td>1</td>\n",
       "      <td>2024-01-15</td>\n",
       "      <td>Raj</td>\n",
       "      <td>Laptop</td>\n",
       "      <td>50000</td>\n",
       "      <td>January</td>\n",
       "    </tr>\n",
       "    <tr>\n",
       "      <th>1</th>\n",
       "      <td>2</td>\n",
       "      <td>2024-01-20</td>\n",
       "      <td>Meera</td>\n",
       "      <td>Phone</td>\n",
       "      <td>30000</td>\n",
       "      <td>January</td>\n",
       "    </tr>\n",
       "    <tr>\n",
       "      <th>2</th>\n",
       "      <td>3</td>\n",
       "      <td>2024-02-10</td>\n",
       "      <td>Raj</td>\n",
       "      <td>Laptop</td>\n",
       "      <td>55000</td>\n",
       "      <td>February</td>\n",
       "    </tr>\n",
       "    <tr>\n",
       "      <th>3</th>\n",
       "      <td>4</td>\n",
       "      <td>2024-02-15</td>\n",
       "      <td>Priya</td>\n",
       "      <td>Tablet</td>\n",
       "      <td>25000</td>\n",
       "      <td>February</td>\n",
       "    </tr>\n",
       "    <tr>\n",
       "      <th>4</th>\n",
       "      <td>5</td>\n",
       "      <td>2024-03-05</td>\n",
       "      <td>Meera</td>\n",
       "      <td>Phone</td>\n",
       "      <td>32000</td>\n",
       "      <td>March</td>\n",
       "    </tr>\n",
       "  </tbody>\n",
       "</table>\n",
       "</div>"
      ],
      "text/plain": [
       "   OrderID       Date Customer Product  Amount     Month\n",
       "0        1 2024-01-15      Raj  Laptop   50000   January\n",
       "1        2 2024-01-20    Meera   Phone   30000   January\n",
       "2        3 2024-02-10      Raj  Laptop   55000  February\n",
       "3        4 2024-02-15    Priya  Tablet   25000  February\n",
       "4        5 2024-03-05    Meera   Phone   32000     March"
      ]
     },
     "execution_count": 5,
     "metadata": {},
     "output_type": "execute_result"
    }
   ],
   "source": [
    "monthly = [\"January\", \"February\", \"March\", \"April\", \"May\",\"June\", \"July\", \"August\", \"September\", \"October\", \"November\", \"December\"]\n",
    "df[\"Month\"] = pd.Categorical(df[\"Month\"],categories=monthly,ordered=True)\n",
    "df.head()"
   ]
  },
  {
   "cell_type": "code",
   "execution_count": 6,
   "id": "8a3b4764",
   "metadata": {},
   "outputs": [
    {
     "name": "stderr",
     "output_type": "stream",
     "text": [
      "C:\\Users\\Rashmi\\AppData\\Local\\Temp\\ipykernel_14316\\2595573814.py:1: FutureWarning: The default value of observed=False is deprecated and will change to observed=True in a future version of pandas. Specify observed=False to silence this warning and retain the current behavior\n",
      "  pivot_multi_agg = df.pivot_table(index=\"Month\", columns=\"Product\", values=[\"Amount\", \"OrderID\"],aggfunc= {\"Amount\":\"sum\", \"OrderID\":\"count\"})\n"
     ]
    }
   ],
   "source": [
    "pivot_multi_agg = df.pivot_table(index=\"Month\", columns=\"Product\", values=[\"Amount\", \"OrderID\"],aggfunc= {\"Amount\":\"sum\", \"OrderID\":\"count\"})"
   ]
  },
  {
   "cell_type": "code",
   "execution_count": 8,
   "id": "8061087d",
   "metadata": {},
   "outputs": [
    {
     "name": "stdout",
     "output_type": "stream",
     "text": [
      "           Amount\n",
      "Month            \n",
      "January     80000\n",
      "February    80000\n",
      "March       89000\n",
      "April      117000\n",
      "May             0\n",
      "June            0\n",
      "July            0\n",
      "August          0\n",
      "September       0\n",
      "October         0\n",
      "November        0\n",
      "December        0\n"
     ]
    },
    {
     "name": "stderr",
     "output_type": "stream",
     "text": [
      "C:\\Users\\Rashmi\\AppData\\Local\\Temp\\ipykernel_14316\\797153272.py:1: FutureWarning: The default of observed=False is deprecated and will be changed to True in a future version of pandas. Pass observed=False to retain current behavior or observed=True to adopt the future default and silence this warning.\n",
      "  total_revenue = df.groupby(df[\"Month\"]).agg({\"Amount\": \"sum\"})\n"
     ]
    }
   ],
   "source": [
    "total_revenue = df.groupby(df[\"Month\"]).agg({\"Amount\": \"sum\"})\n",
    "print(total_revenue)"
   ]
  },
  {
   "cell_type": "code",
   "execution_count": 11,
   "id": "57fd1a88",
   "metadata": {},
   "outputs": [
    {
     "name": "stdout",
     "output_type": "stream",
     "text": [
      "          Amount\n",
      "Customer        \n",
      "Arjun      27000\n",
      "Meera      93000\n",
      "Priya      85000\n",
      "Raj       161000\n"
     ]
    }
   ],
   "source": [
    "total_sales = df.groupby(df[\"Customer\"]).agg({\"Amount\":\"sum\"})\n",
    "print(total_sales)"
   ]
  },
  {
   "cell_type": "code",
   "execution_count": 12,
   "id": "d5d25019",
   "metadata": {},
   "outputs": [
    {
     "name": "stdout",
     "output_type": "stream",
     "text": [
      "          Amount\n",
      "Product         \n",
      "Laptop   55000.0\n",
      "Phone    30750.0\n",
      "Tablet   26000.0\n"
     ]
    }
   ],
   "source": [
    "Avg_order = df.groupby(df[\"Product\"]).agg({\"Amount\":\"mean\"})\n",
    "print(Avg_order)"
   ]
  },
  {
   "cell_type": "code",
   "execution_count": 13,
   "id": "3ef9bf44",
   "metadata": {},
   "outputs": [
    {
     "name": "stdout",
     "output_type": "stream",
     "text": [
      "0             NaN\n",
      "1             NaN\n",
      "2    45000.000000\n",
      "3    36666.666667\n",
      "4    37333.333333\n",
      "5    28000.000000\n",
      "6    29666.666667\n",
      "7    39000.000000\n",
      "8    38666.666667\n",
      "9    39000.000000\n",
      "Name: Rolling_Avg, dtype: float64\n"
     ]
    }
   ],
   "source": [
    "df[\"Rolling_Avg\"] = df[\"Amount\"].rolling(window=3).mean()\n",
    "print(df[\"Rolling_Avg\"])"
   ]
  },
  {
   "cell_type": "code",
   "execution_count": 15,
   "id": "4de47fb4",
   "metadata": {},
   "outputs": [
    {
     "data": {
      "image/png": "[encoded data removed]",
      "text/plain": [
       "<Figure size 640x480 with 1 Axes>"
      ]
     },
     "metadata": {},
     "output_type": "display_data"
    }
   ],
   "source": [
    "plt.plot(df[\"Rolling_Avg\"],df[\"Amount\"], marker=\"D\", linewidth = 2, linestyle=\"--\")\n",
    "plt.show()"
   ]
  },
  {
   "cell_type": "code",
   "execution_count": 16,
   "id": "aeff9dc5",
   "metadata": {},
   "outputs": [
    {
     "name": "stdout",
     "output_type": "stream",
     "text": [
      "0           NaN\n",
      "1    -40.000000\n",
      "2     83.333333\n",
      "3    -54.545455\n",
      "4     28.000000\n",
      "5    -15.625000\n",
      "6     11.111111\n",
      "7    100.000000\n",
      "8    -56.666667\n",
      "9     19.230769\n",
      "Name: Growth, dtype: float64\n"
     ]
    }
   ],
   "source": [
    "df[\"Growth\"] = df[\"Amount\"].pct_change()*100\n",
    "print(df[\"Growth\"])"
   ]
  },
  {
   "cell_type": "code",
   "execution_count": null,
   "id": "0aec5cb3",
   "metadata": {},
   "outputs": [],
   "source": []
  }
 ],
 "metadata": {
  "kernelspec": {
   "display_name": "Python 3",
   "language": "python",
   "name": "python3"
  },
  "language_info": {
   "codemirror_mode": {
    "name": "ipython",
    "version": 3
   },
   "file_extension": ".py",
   "mimetype": "text/x-python",
   "name": "python",
   "nbconvert_exporter": "python",
   "pygments_lexer": "ipython3",
   "version": "3.13.0"
  }
 },
 "nbformat": 4,
 "nbformat_minor": 5
}
