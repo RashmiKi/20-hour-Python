{
 "cells": [
  {
   "cell_type": "markdown",
   "id": "cc3995bb",
   "metadata": {},
   "source": [
    "Example"
   ]
  },
  {
   "cell_type": "code",
   "execution_count": 1,
   "id": "00b6a6a7",
   "metadata": {},
   "outputs": [
    {
     "data": {
      "text/html": [
       "<div>\n",
       "<style scoped>\n",
       "    .dataframe tbody tr th:only-of-type {\n",
       "        vertical-align: middle;\n",
       "    }\n",
       "\n",
       "    .dataframe tbody tr th {\n",
       "        vertical-align: top;\n",
       "    }\n",
       "\n",
       "    .dataframe thead th {\n",
       "        text-align: right;\n",
       "    }\n",
       "</style>\n",
       "<table border=\"1\" class=\"dataframe\">\n",
       "  <thead>\n",
       "    <tr style=\"text-align: right;\">\n",
       "      <th></th>\n",
       "      <th>Date</th>\n",
       "      <th>City</th>\n",
       "      <th>Temperature</th>\n",
       "      <th>Humidity</th>\n",
       "    </tr>\n",
       "  </thead>\n",
       "  <tbody>\n",
       "    <tr>\n",
       "      <th>0</th>\n",
       "      <td>2023-01-01</td>\n",
       "      <td>New York</td>\n",
       "      <td>32</td>\n",
       "      <td>80</td>\n",
       "    </tr>\n",
       "    <tr>\n",
       "      <th>1</th>\n",
       "      <td>2023-01-01</td>\n",
       "      <td>Los Angeles</td>\n",
       "      <td>75</td>\n",
       "      <td>60</td>\n",
       "    </tr>\n",
       "    <tr>\n",
       "      <th>2</th>\n",
       "      <td>2023-01-02</td>\n",
       "      <td>New York</td>\n",
       "      <td>30</td>\n",
       "      <td>85</td>\n",
       "    </tr>\n",
       "    <tr>\n",
       "      <th>3</th>\n",
       "      <td>2023-01-02</td>\n",
       "      <td>Los Angeles</td>\n",
       "      <td>77</td>\n",
       "      <td>55</td>\n",
       "    </tr>\n",
       "    <tr>\n",
       "      <th>4</th>\n",
       "      <td>2023-01-01</td>\n",
       "      <td>New York</td>\n",
       "      <td>35</td>\n",
       "      <td>78</td>\n",
       "    </tr>\n",
       "  </tbody>\n",
       "</table>\n",
       "</div>"
      ],
      "text/plain": [
       "         Date         City  Temperature  Humidity\n",
       "0  2023-01-01     New York           32        80\n",
       "1  2023-01-01  Los Angeles           75        60\n",
       "2  2023-01-02     New York           30        85\n",
       "3  2023-01-02  Los Angeles           77        55\n",
       "4  2023-01-01     New York           35        78"
      ]
     },
     "execution_count": 1,
     "metadata": {},
     "output_type": "execute_result"
    }
   ],
   "source": [
    "import pandas as pd\n",
    "\n",
    "data = {\n",
    "    'Date': ['2023-01-01', '2023-01-01', '2023-01-02', '2023-01-02', '2023-01-01'],\n",
    "    'City': ['New York', 'Los Angeles', 'New York', 'Los Angeles', 'New York'],\n",
    "    'Temperature': [32, 75, 30, 77, 35],\n",
    "    'Humidity': [80, 60, 85, 55, 78]}\n",
    "\n",
    "df = pd.DataFrame(data)\n",
    "df.head()"
   ]
  },
  {
   "cell_type": "code",
   "execution_count": 3,
   "id": "b2717396",
   "metadata": {},
   "outputs": [
    {
     "name": "stdout",
     "output_type": "stream",
     "text": [
      "Date         2023-01-01  2023-01-02\n",
      "City                               \n",
      "Los Angeles        75.0        77.0\n",
      "New York           33.5        30.0\n"
     ]
    }
   ],
   "source": [
    "dfp = df.pivot_table(index= \"City\", columns= \"Date\", values =\"Temperature\", aggfunc=\"mean\" )\n",
    "print(dfp)"
   ]
  },
  {
   "cell_type": "code",
   "execution_count": 4,
   "id": "e61bf39f",
   "metadata": {},
   "outputs": [
    {
     "name": "stdout",
     "output_type": "stream",
     "text": [
      "Multiple aggregations on col_a:\n",
      "sum     15.0\n",
      "mean     3.0\n",
      "min      1.0\n",
      "Name: col_a, dtype: float64\n"
     ]
    }
   ],
   "source": [
    "import pandas as pd\n",
    "data = {'col_a': [1,2,3,4,5]}\n",
    "df = pd.DataFrame(data)\n",
    "result = df['col_a'].agg(['sum', 'mean', 'min'])\n",
    "print(f\"Multiple aggregations on col_a:\\n{result}\")"
   ]
  },
  {
   "cell_type": "code",
   "execution_count": 9,
   "id": "143b9f73",
   "metadata": {},
   "outputs": [
    {
     "name": "stdout",
     "output_type": "stream",
     "text": [
      "        Date  Value  Rolling_Avg_2_Period\n",
      "0 2023-01-01     10                   NaN\n",
      "1 2023-01-02     12                  11.0\n",
      "2 2023-01-03     15                  13.5\n",
      "3 2023-01-04     13                  14.0\n",
      "4 2023-01-05     18                  15.5\n"
     ]
    }
   ],
   "source": [
    "import pandas as pd\n",
    "data = {\n",
    "    'Date': pd.to_datetime(['2023-01-01','2023-01-02', '2023-01-03','2023-01-04','2023-01-05']),\n",
    "    'Value': [10,12,15,13,18]\n",
    "}\n",
    "\n",
    "df = pd.DataFrame(data)\n",
    "\n",
    "df['Rolling_Avg_2_Period'] = df['Value'].rolling(window=2).mean()\n",
    "print(df)"
   ]
  },
  {
   "cell_type": "code",
   "execution_count": null,
   "id": "5e76ee64",
   "metadata": {},
   "outputs": [],
   "source": []
  }
 ],
 "metadata": {
  "kernelspec": {
   "display_name": "Python 3",
   "language": "python",
   "name": "python3"
  },
  "language_info": {
   "codemirror_mode": {
    "name": "ipython",
    "version": 3
   },
   "file_extension": ".py",
   "mimetype": "text/x-python",
   "name": "python",
   "nbconvert_exporter": "python",
   "pygments_lexer": "ipython3",
   "version": "3.13.0"
  }
 },
 "nbformat": 4,
 "nbformat_minor": 5
}
