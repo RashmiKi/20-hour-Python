{
 "cells": [
  {
   "cell_type": "markdown",
   "id": "ee515990",
   "metadata": {},
   "source": [
    "#Revision"
   ]
  },
  {
   "cell_type": "code",
   "execution_count": null,
   "id": "764096d9",
   "metadata": {},
   "outputs": [],
   "source": [
    "n = int(input(\"Enter a number: \"))\n",
    "if n>0:\n",
    "    print(\"Positive Number\")\n",
    "elif n<0:\n",
    "    print(\"Negative Number\")\n",
    "else:\n",
    "    print(\"Zero\")"
   ]
  }
 ],
 "metadata": {
  "kernelspec": {
   "display_name": "Python 3",
   "language": "python",
   "name": "python3"
  },
  "language_info": {
   "codemirror_mode": {
    "name": "ipython",
    "version": 3
   },
   "file_extension": ".py",
   "mimetype": "text/x-python",
   "name": "python",
   "nbconvert_exporter": "python",
   "pygments_lexer": "ipython3",
   "version": "3.13.0"
  }
 },
 "nbformat": 4,
 "nbformat_minor": 5
}
