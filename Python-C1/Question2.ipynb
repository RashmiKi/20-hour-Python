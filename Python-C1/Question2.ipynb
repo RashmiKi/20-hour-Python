{
 "cells": [
  {
   "cell_type": "markdown",
   "id": "59da8c70",
   "metadata": {},
   "source": [
    "Question 2"
   ]
  },
  {
   "cell_type": "code",
   "execution_count": 1,
   "id": "81e707f1",
   "metadata": {},
   "outputs": [
    {
     "data": {
      "text/html": [
       "<div>\n",
       "<style scoped>\n",
       "    .dataframe tbody tr th:only-of-type {\n",
       "        vertical-align: middle;\n",
       "    }\n",
       "\n",
       "    .dataframe tbody tr th {\n",
       "        vertical-align: top;\n",
       "    }\n",
       "\n",
       "    .dataframe thead th {\n",
       "        text-align: right;\n",
       "    }\n",
       "</style>\n",
       "<table border=\"1\" class=\"dataframe\">\n",
       "  <thead>\n",
       "    <tr style=\"text-align: right;\">\n",
       "      <th></th>\n",
       "      <th>EmployeeID</th>\n",
       "      <th>Name</th>\n",
       "      <th>Department</th>\n",
       "      <th>Salary</th>\n",
       "    </tr>\n",
       "  </thead>\n",
       "  <tbody>\n",
       "    <tr>\n",
       "      <th>0</th>\n",
       "      <td>1</td>\n",
       "      <td>Rashmi</td>\n",
       "      <td>IT</td>\n",
       "      <td>50000</td>\n",
       "    </tr>\n",
       "    <tr>\n",
       "      <th>1</th>\n",
       "      <td>2</td>\n",
       "      <td>Aman</td>\n",
       "      <td>HR</td>\n",
       "      <td>75000</td>\n",
       "    </tr>\n",
       "    <tr>\n",
       "      <th>2</th>\n",
       "      <td>3</td>\n",
       "      <td>Krishna</td>\n",
       "      <td>Sales</td>\n",
       "      <td>55000</td>\n",
       "    </tr>\n",
       "    <tr>\n",
       "      <th>3</th>\n",
       "      <td>4</td>\n",
       "      <td>Shiv</td>\n",
       "      <td>HR</td>\n",
       "      <td>60000</td>\n",
       "    </tr>\n",
       "    <tr>\n",
       "      <th>4</th>\n",
       "      <td>5</td>\n",
       "      <td>Chotu</td>\n",
       "      <td>HR</td>\n",
       "      <td>80000</td>\n",
       "    </tr>\n",
       "  </tbody>\n",
       "</table>\n",
       "</div>"
      ],
      "text/plain": [
       "   EmployeeID     Name Department  Salary\n",
       "0           1   Rashmi         IT   50000\n",
       "1           2     Aman         HR   75000\n",
       "2           3  Krishna      Sales   55000\n",
       "3           4     Shiv         HR   60000\n",
       "4           5    Chotu         HR   80000"
      ]
     },
     "execution_count": 1,
     "metadata": {},
     "output_type": "execute_result"
    }
   ],
   "source": [
    "import pandas as pd\n",
    "df = pd.read_csv(r\"D:\\Python\\20-hour-Python\\Python-C1\\Job.csv\")\n",
    "df.head()"
   ]
  },
  {
   "cell_type": "code",
   "execution_count": 6,
   "id": "8b5a0129",
   "metadata": {},
   "outputs": [
    {
     "name": "stdout",
     "output_type": "stream",
     "text": [
      "IT 0    50000\n",
      "5    65000\n",
      "Name: Salary, dtype: int64\n",
      "HR 1    75000\n",
      "3    60000\n",
      "4    80000\n",
      "Name: Salary, dtype: int64\n",
      "Sales 2    55000\n",
      "Name: Salary, dtype: int64\n"
     ]
    }
   ],
   "source": [
    "it = df[df['Department'] == 'IT']['Salary']\n",
    "hr = df[df['Department'] == 'HR']['Salary']\n",
    "sales = df[df['Department'] == 'Sales']['Salary']\n",
    "\n",
    "print(\"IT\",  it)\n",
    "print(\"HR\", hr)\n",
    "print(\"Sales\", sales)\n",
    "\n",
    "# it = df['Department'] == 'IT'\n",
    "# it"
   ]
  },
  {
   "cell_type": "code",
   "execution_count": 8,
   "id": "b95af40d",
   "metadata": {},
   "outputs": [
    {
     "name": "stdout",
     "output_type": "stream",
     "text": [
      "IT Average 57500.0\n",
      "HR Average 71666.66666666667\n",
      "Sales Average 55000.0\n"
     ]
    }
   ],
   "source": [
    "avg_it = it.mean()\n",
    "print(\"IT Average\", avg_it)\n",
    "\n",
    "avg_hr = hr.mean()\n",
    "print(\"HR Average\", avg_hr)\n",
    "\n",
    "avg_sales = sales.mean()\n",
    "print(\"Sales Average\", avg_sales)"
   ]
  },
  {
   "cell_type": "code",
   "execution_count": 13,
   "id": "e3d7a6df",
   "metadata": {},
   "outputs": [
    {
     "data": {
      "text/html": [
       "<div>\n",
       "<style scoped>\n",
       "    .dataframe tbody tr th:only-of-type {\n",
       "        vertical-align: middle;\n",
       "    }\n",
       "\n",
       "    .dataframe tbody tr th {\n",
       "        vertical-align: top;\n",
       "    }\n",
       "\n",
       "    .dataframe thead th {\n",
       "        text-align: right;\n",
       "    }\n",
       "</style>\n",
       "<table border=\"1\" class=\"dataframe\">\n",
       "  <thead>\n",
       "    <tr style=\"text-align: right;\">\n",
       "      <th></th>\n",
       "      <th>Department</th>\n",
       "      <th>Average Salary</th>\n",
       "    </tr>\n",
       "  </thead>\n",
       "  <tbody>\n",
       "    <tr>\n",
       "      <th>0</th>\n",
       "      <td>IT</td>\n",
       "      <td>57500.000000</td>\n",
       "    </tr>\n",
       "    <tr>\n",
       "      <th>1</th>\n",
       "      <td>HR</td>\n",
       "      <td>71666.666667</td>\n",
       "    </tr>\n",
       "    <tr>\n",
       "      <th>2</th>\n",
       "      <td>Sales</td>\n",
       "      <td>55000.000000</td>\n",
       "    </tr>\n",
       "  </tbody>\n",
       "</table>\n",
       "</div>"
      ],
      "text/plain": [
       "  Department  Average Salary\n",
       "0         IT    57500.000000\n",
       "1         HR    71666.666667\n",
       "2      Sales    55000.000000"
      ]
     },
     "execution_count": 13,
     "metadata": {},
     "output_type": "execute_result"
    }
   ],
   "source": [
    "Avg_Salary = pd.DataFrame({\n",
    "    'Department': [\"IT\", \"HR\", \"Sales\"],\n",
    "    'Average Salary': [avg_it, avg_hr, avg_sales]\n",
    "}, index = [0,1,2])\n",
    "\n",
    "Avg_Salary"
   ]
  },
  {
   "cell_type": "code",
   "execution_count": null,
   "id": "e7dbce1f",
   "metadata": {},
   "outputs": [],
   "source": [
    "desc = Avg_Salary.sort_values(by='Average Salary', ascending= False)\n"
   ]
  },
  {
   "cell_type": "code",
   "execution_count": 19,
   "id": "fe70c63f",
   "metadata": {},
   "outputs": [],
   "source": [
    "desc.to_csv(\"Average_Salary.csv\")"
   ]
  }
 ],
 "metadata": {
  "kernelspec": {
   "display_name": "Python 3",
   "language": "python",
   "name": "python3"
  },
  "language_info": {
   "codemirror_mode": {
    "name": "ipython",
    "version": 3
   },
   "file_extension": ".py",
   "mimetype": "text/x-python",
   "name": "python",
   "nbconvert_exporter": "python",
   "pygments_lexer": "ipython3",
   "version": "3.13.0"
  }
 },
 "nbformat": 4,
 "nbformat_minor": 5
}
