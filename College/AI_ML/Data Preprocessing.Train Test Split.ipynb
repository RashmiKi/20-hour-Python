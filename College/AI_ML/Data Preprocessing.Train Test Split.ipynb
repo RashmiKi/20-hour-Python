{
 "cells": [
  {
   "cell_type": "code",
   "execution_count": 2,
   "id": "e44d4fc0-99cb-4a20-bff2-29032df0760f",
   "metadata": {},
   "outputs": [],
   "source": [
    "import numpy as np\n",
    "import pandas as pd\n",
    "import matplotlib.pyplot as plt\n",
    "from sklearn.impute import SimpleImputer\n",
    "from sklearn.model_selection import train_test_split"
   ]
  },
  {
   "cell_type": "code",
   "execution_count": 3,
   "id": "a4270d96-e39c-4e8b-b005-a4c42c89b534",
   "metadata": {},
   "outputs": [],
   "source": [
    "df = pd.read_csv(\"Data Preprocessing.csv\")"
   ]
  },
  {
   "cell_type": "code",
   "execution_count": 4,
   "id": "9f9d4655-c168-42ae-a759-c9085dbb654f",
   "metadata": {},
   "outputs": [],
   "source": [
    "x = df.iloc[: , 2:-2].values\n",
    "y = df.iloc[: , -2].values"
   ]
  },
  {
   "cell_type": "code",
   "execution_count": 5,
   "id": "7eb83c47-9518-4cd5-8e74-885fa0999b81",
   "metadata": {},
   "outputs": [
    {
     "name": "stdout",
     "output_type": "stream",
     "text": [
      "[[28.0 'Sales' 'Male' 3.0]\n",
      " [35.0 'HR' 'Female' 8.0]\n",
      " [nan 'IT' 'Male' 5.0]\n",
      " [29.0 'Finance' 'Female' 4.0]\n",
      " [41.0 'Sales' 'Male' 15.0]\n",
      " [24.0 'Marketing' 'Female' 1.0]\n",
      " [38.0 'IT' 'Male' 10.0]\n",
      " [27.0 'Finance' 'Female' 2.0]\n",
      " [32.0 'Sales' 'Male' 6.0]\n",
      " [26.0 'Marketing' 'Female' nan]]\n"
     ]
    }
   ],
   "source": [
    "print(x)"
   ]
  },
  {
   "cell_type": "code",
   "execution_count": 6,
   "id": "7f112b14-243c-4559-aadf-d28725eb30ad",
   "metadata": {},
   "outputs": [
    {
     "name": "stdout",
     "output_type": "stream",
     "text": [
      "[48000. 67000.    nan 59000. 85000. 35000. 78000. 48000. 61000. 42000.]\n"
     ]
    }
   ],
   "source": [
    "print(y)"
   ]
  },
  {
   "cell_type": "code",
   "execution_count": 8,
   "id": "7352b564-ca74-48b8-9b41-2865a0618eff",
   "metadata": {},
   "outputs": [],
   "source": [
    "X_train, X_test, y_train, y_test = train_test_split(\n",
    "    x, y, test_size=0.2, random_state=42  \n",
    ")"
   ]
  },
  {
   "cell_type": "code",
   "execution_count": 9,
   "id": "9df941b7-6fac-4e4b-b7e2-8a1a56f5437c",
   "metadata": {},
   "outputs": [
    {
     "name": "stdout",
     "output_type": "stream",
     "text": [
      "\n",
      "Shapes of the datasets:\n",
      "X_train: (8, 4)\n",
      "X_test: (2, 4)\n",
      "y_train: (8,)\n",
      "y_test: (2,)\n"
     ]
    }
   ],
   "source": [
    "print(\"\\nShapes of the datasets:\")\n",
    "print(\"X_train:\", X_train.shape)\n",
    "print(\"X_test:\", X_test.shape)\n",
    "print(\"y_train:\", y_train.shape)\n",
    "print(\"y_test:\", y_test.shape)"
   ]
  },
  {
   "cell_type": "code",
   "execution_count": null,
   "id": "8fa2159b-da9b-486a-88e4-5713316e1302",
   "metadata": {},
   "outputs": [],
   "source": []
  }
 ],
 "metadata": {
  "kernelspec": {
   "display_name": "Python 3 (ipykernel)",
   "language": "python",
   "name": "python3"
  },
  "language_info": {
   "codemirror_mode": {
    "name": "ipython",
    "version": 3
   },
   "file_extension": ".py",
   "mimetype": "text/x-python",
   "name": "python",
   "nbconvert_exporter": "python",
   "pygments_lexer": "ipython3",
   "version": "3.11.9"
  }
 },
 "nbformat": 4,
 "nbformat_minor": 5
}
