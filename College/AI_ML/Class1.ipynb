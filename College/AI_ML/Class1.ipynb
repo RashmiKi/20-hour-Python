{
 "cells": [
  {
   "cell_type": "markdown",
   "id": "4f951029",
   "metadata": {},
   "source": [
    "Date : 16/10/2025"
   ]
  },
  {
   "cell_type": "markdown",
   "id": "94f2f361",
   "metadata": {},
   "source": [
    "# Class 1 Pandas"
   ]
  },
  {
   "cell_type": "code",
   "execution_count": 1,
   "metadata": {},
   "outputs": [
    {
     "data": {
      "text/html": [
       "<div>\n",
       "<style scoped>\n",
       "    .dataframe tbody tr th:only-of-type {\n",
       "        vertical-align: middle;\n",
       "    }\n",
       "\n",
       "    .dataframe tbody tr th {\n",
       "        vertical-align: top;\n",
       "    }\n",
       "\n",
       "    .dataframe thead th {\n",
       "        text-align: right;\n",
       "    }\n",
       "</style>\n",
       "<table border=\"1\" class=\"dataframe\">\n",
       "  <thead>\n",
       "    <tr style=\"text-align: right;\">\n",
       "      <th></th>\n",
       "      <th>Order_ID</th>\n",
       "      <th>Date</th>\n",
       "      <th>Customer_Name</th>\n",
       "      <th>Region</th>\n",
       "      <th>Product</th>\n",
       "      <th>Quantity</th>\n",
       "      <th>Unit_Price</th>\n",
       "      <th>Total_Sales</th>\n",
       "    </tr>\n",
       "  </thead>\n",
       "  <tbody>\n",
       "    <tr>\n",
       "      <th>0</th>\n",
       "      <td>1001</td>\n",
       "      <td>05-01-2024</td>\n",
       "      <td>Riya Sen</td>\n",
       "      <td>East</td>\n",
       "      <td>Laptop</td>\n",
       "      <td>2</td>\n",
       "      <td>55000</td>\n",
       "      <td>110000</td>\n",
       "    </tr>\n",
       "    <tr>\n",
       "      <th>1</th>\n",
       "      <td>1002</td>\n",
       "      <td>06-01-2024</td>\n",
       "      <td>Arjun Das</td>\n",
       "      <td>West</td>\n",
       "      <td>Mouse</td>\n",
       "      <td>5</td>\n",
       "      <td>800</td>\n",
       "      <td>4000</td>\n",
       "    </tr>\n",
       "    <tr>\n",
       "      <th>2</th>\n",
       "      <td>1003</td>\n",
       "      <td>06-01-2024</td>\n",
       "      <td>Meera Roy</td>\n",
       "      <td>North</td>\n",
       "      <td>Keyboard</td>\n",
       "      <td>3</td>\n",
       "      <td>1500</td>\n",
       "      <td>4500</td>\n",
       "    </tr>\n",
       "    <tr>\n",
       "      <th>3</th>\n",
       "      <td>1004</td>\n",
       "      <td>07-01-2024</td>\n",
       "      <td>Neha Singh</td>\n",
       "      <td>South</td>\n",
       "      <td>Monitor</td>\n",
       "      <td>1</td>\n",
       "      <td>12000</td>\n",
       "      <td>12000</td>\n",
       "    </tr>\n",
       "    <tr>\n",
       "      <th>4</th>\n",
       "      <td>1005</td>\n",
       "      <td>07-01-2024</td>\n",
       "      <td>Riya Sen</td>\n",
       "      <td>East</td>\n",
       "      <td>Mouse</td>\n",
       "      <td>2</td>\n",
       "      <td>800</td>\n",
       "      <td>1600</td>\n",
       "    </tr>\n",
       "  </tbody>\n",
       "</table>\n",
       "</div>"
      ],
      "text/plain": [
       "   Order_ID        Date Customer_Name Region   Product  Quantity  Unit_Price  \\\n",
       "0      1001  05-01-2024      Riya Sen   East    Laptop         2       55000   \n",
       "1      1002  06-01-2024     Arjun Das   West     Mouse         5         800   \n",
       "2      1003  06-01-2024     Meera Roy  North  Keyboard         3        1500   \n",
       "3      1004  07-01-2024    Neha Singh  South   Monitor         1       12000   \n",
       "4      1005  07-01-2024      Riya Sen   East     Mouse         2         800   \n",
       "\n",
       "   Total_Sales  \n",
       "0       110000  \n",
       "1         4000  \n",
       "2         4500  \n",
       "3        12000  \n",
       "4         1600  "
      ]
     },
     "execution_count": 1,
     "metadata": {},
     "output_type": "execute_result"
    }
   ],
   "source": [
    "import pandas as pd\n",
    "df = pd.read_csv(r\"D:\\Python\\20-hour-Python\\College\\AI_ML\\pandas.practice.csv\")\n",
    "df.head()"
   ]
  },
  {
   "cell_type": "code",
   "execution_count": 2,
   "id": "2a945a8e",
   "metadata": {},
   "outputs": [
    {
     "data": {
      "text/html": [
       "<div>\n",
       "<style scoped>\n",
       "    .dataframe tbody tr th:only-of-type {\n",
       "        vertical-align: middle;\n",
       "    }\n",
       "\n",
       "    .dataframe tbody tr th {\n",
       "        vertical-align: top;\n",
       "    }\n",
       "\n",
       "    .dataframe thead th {\n",
       "        text-align: right;\n",
       "    }\n",
       "</style>\n",
       "<table border=\"1\" class=\"dataframe\">\n",
       "  <thead>\n",
       "    <tr style=\"text-align: right;\">\n",
       "      <th></th>\n",
       "      <th>Order_ID</th>\n",
       "      <th>Date</th>\n",
       "      <th>Customer_Name</th>\n",
       "      <th>Region</th>\n",
       "      <th>Product</th>\n",
       "      <th>Quantity</th>\n",
       "      <th>Unit_Price</th>\n",
       "      <th>Total_Sales</th>\n",
       "    </tr>\n",
       "  </thead>\n",
       "  <tbody>\n",
       "    <tr>\n",
       "      <th>5</th>\n",
       "      <td>1006</td>\n",
       "      <td>08-01-2024</td>\n",
       "      <td>Vikram Jain</td>\n",
       "      <td>North</td>\n",
       "      <td>Laptop</td>\n",
       "      <td>1</td>\n",
       "      <td>55000</td>\n",
       "      <td>55000</td>\n",
       "    </tr>\n",
       "    <tr>\n",
       "      <th>6</th>\n",
       "      <td>1007</td>\n",
       "      <td>08-01-2024</td>\n",
       "      <td>Sneha Das</td>\n",
       "      <td>West</td>\n",
       "      <td>Monitor</td>\n",
       "      <td>2</td>\n",
       "      <td>12000</td>\n",
       "      <td>24000</td>\n",
       "    </tr>\n",
       "    <tr>\n",
       "      <th>7</th>\n",
       "      <td>1008</td>\n",
       "      <td>09-01-2024</td>\n",
       "      <td>Rahul Bose</td>\n",
       "      <td>South</td>\n",
       "      <td>Keyboard</td>\n",
       "      <td>4</td>\n",
       "      <td>1500</td>\n",
       "      <td>6000</td>\n",
       "    </tr>\n",
       "    <tr>\n",
       "      <th>8</th>\n",
       "      <td>1009</td>\n",
       "      <td>09-01-2024</td>\n",
       "      <td>Arjun Das</td>\n",
       "      <td>West</td>\n",
       "      <td>Laptop</td>\n",
       "      <td>1</td>\n",
       "      <td>55000</td>\n",
       "      <td>55000</td>\n",
       "    </tr>\n",
       "    <tr>\n",
       "      <th>9</th>\n",
       "      <td>1010</td>\n",
       "      <td>10-01-2024</td>\n",
       "      <td>Neha Singh</td>\n",
       "      <td>South</td>\n",
       "      <td>Mouse</td>\n",
       "      <td>3</td>\n",
       "      <td>800</td>\n",
       "      <td>2400</td>\n",
       "    </tr>\n",
       "  </tbody>\n",
       "</table>\n",
       "</div>"
      ],
      "text/plain": [
       "   Order_ID        Date Customer_Name Region   Product  Quantity  Unit_Price  \\\n",
       "5      1006  08-01-2024   Vikram Jain  North    Laptop         1       55000   \n",
       "6      1007  08-01-2024     Sneha Das   West   Monitor         2       12000   \n",
       "7      1008  09-01-2024    Rahul Bose  South  Keyboard         4        1500   \n",
       "8      1009  09-01-2024     Arjun Das   West    Laptop         1       55000   \n",
       "9      1010  10-01-2024    Neha Singh  South     Mouse         3         800   \n",
       "\n",
       "   Total_Sales  \n",
       "5        55000  \n",
       "6        24000  \n",
       "7         6000  \n",
       "8        55000  \n",
       "9         2400  "
      ]
     },
     "execution_count": 2,
     "metadata": {},
     "output_type": "execute_result"
    }
   ],
   "source": [
    "df.tail()"
   ]
  },
  {
   "cell_type": "code",
   "execution_count": 3,
   "id": "19c38b0f",
   "metadata": {},
   "outputs": [
    {
     "name": "stdout",
     "output_type": "stream",
     "text": [
      "<class 'pandas.core.frame.DataFrame'>\n",
      "RangeIndex: 10 entries, 0 to 9\n",
      "Data columns (total 8 columns):\n",
      " #   Column         Non-Null Count  Dtype \n",
      "---  ------         --------------  ----- \n",
      " 0   Order_ID       10 non-null     int64 \n",
      " 1   Date           10 non-null     object\n",
      " 2   Customer_Name  10 non-null     object\n",
      " 3   Region         10 non-null     object\n",
      " 4   Product        10 non-null     object\n",
      " 5   Quantity       10 non-null     int64 \n",
      " 6   Unit_Price     10 non-null     int64 \n",
      " 7   Total_Sales    10 non-null     int64 \n",
      "dtypes: int64(4), object(4)\n",
      "memory usage: 772.0+ bytes\n"
     ]
    }
   ],
   "source": [
    "df.info()"
   ]
  },
  {
   "cell_type": "code",
   "execution_count": 4,
   "id": "7aae6b13",
   "metadata": {},
   "outputs": [
    {
     "data": {
      "text/html": [
       "<div>\n",
       "<style scoped>\n",
       "    .dataframe tbody tr th:only-of-type {\n",
       "        vertical-align: middle;\n",
       "    }\n",
       "\n",
       "    .dataframe tbody tr th {\n",
       "        vertical-align: top;\n",
       "    }\n",
       "\n",
       "    .dataframe thead th {\n",
       "        text-align: right;\n",
       "    }\n",
       "</style>\n",
       "<table border=\"1\" class=\"dataframe\">\n",
       "  <thead>\n",
       "    <tr style=\"text-align: right;\">\n",
       "      <th></th>\n",
       "      <th>Order_ID</th>\n",
       "      <th>Quantity</th>\n",
       "      <th>Unit_Price</th>\n",
       "      <th>Total_Sales</th>\n",
       "    </tr>\n",
       "  </thead>\n",
       "  <tbody>\n",
       "    <tr>\n",
       "      <th>count</th>\n",
       "      <td>10.00000</td>\n",
       "      <td>10.000000</td>\n",
       "      <td>10.000000</td>\n",
       "      <td>10.000000</td>\n",
       "    </tr>\n",
       "    <tr>\n",
       "      <th>mean</th>\n",
       "      <td>1005.50000</td>\n",
       "      <td>2.400000</td>\n",
       "      <td>19440.000000</td>\n",
       "      <td>27450.000000</td>\n",
       "    </tr>\n",
       "    <tr>\n",
       "      <th>std</th>\n",
       "      <td>3.02765</td>\n",
       "      <td>1.349897</td>\n",
       "      <td>24922.733932</td>\n",
       "      <td>35614.517951</td>\n",
       "    </tr>\n",
       "    <tr>\n",
       "      <th>min</th>\n",
       "      <td>1001.00000</td>\n",
       "      <td>1.000000</td>\n",
       "      <td>800.000000</td>\n",
       "      <td>1600.000000</td>\n",
       "    </tr>\n",
       "    <tr>\n",
       "      <th>25%</th>\n",
       "      <td>1003.25000</td>\n",
       "      <td>1.250000</td>\n",
       "      <td>975.000000</td>\n",
       "      <td>4125.000000</td>\n",
       "    </tr>\n",
       "    <tr>\n",
       "      <th>50%</th>\n",
       "      <td>1005.50000</td>\n",
       "      <td>2.000000</td>\n",
       "      <td>6750.000000</td>\n",
       "      <td>9000.000000</td>\n",
       "    </tr>\n",
       "    <tr>\n",
       "      <th>75%</th>\n",
       "      <td>1007.75000</td>\n",
       "      <td>3.000000</td>\n",
       "      <td>44250.000000</td>\n",
       "      <td>47250.000000</td>\n",
       "    </tr>\n",
       "    <tr>\n",
       "      <th>max</th>\n",
       "      <td>1010.00000</td>\n",
       "      <td>5.000000</td>\n",
       "      <td>55000.000000</td>\n",
       "      <td>110000.000000</td>\n",
       "    </tr>\n",
       "  </tbody>\n",
       "</table>\n",
       "</div>"
      ],
      "text/plain": [
       "         Order_ID   Quantity    Unit_Price    Total_Sales\n",
       "count    10.00000  10.000000     10.000000      10.000000\n",
       "mean   1005.50000   2.400000  19440.000000   27450.000000\n",
       "std       3.02765   1.349897  24922.733932   35614.517951\n",
       "min    1001.00000   1.000000    800.000000    1600.000000\n",
       "25%    1003.25000   1.250000    975.000000    4125.000000\n",
       "50%    1005.50000   2.000000   6750.000000    9000.000000\n",
       "75%    1007.75000   3.000000  44250.000000   47250.000000\n",
       "max    1010.00000   5.000000  55000.000000  110000.000000"
      ]
     },
     "execution_count": 4,
     "metadata": {},
     "output_type": "execute_result"
    }
   ],
   "source": [
    "df.describe()"
   ]
  },
  {
   "cell_type": "code",
   "execution_count": 5,
   "id": "982ca828",
   "metadata": {},
   "outputs": [
    {
     "data": {
      "text/plain": [
       "(10, 8)"
      ]
     },
     "execution_count": 5,
     "metadata": {},
     "output_type": "execute_result"
    }
   ],
   "source": [
    "df.shape #property and attribute"
   ]
  },
  {
   "cell_type": "code",
   "execution_count": 6,
   "id": "a9c55403",
   "metadata": {},
   "outputs": [
    {
     "data": {
      "text/plain": [
       "Index(['Order_ID', 'Date', 'Customer_Name', 'Region', 'Product', 'Quantity',\n",
       "       'Unit_Price', 'Total_Sales'],\n",
       "      dtype='object')"
      ]
     },
     "execution_count": 6,
     "metadata": {},
     "output_type": "execute_result"
    }
   ],
   "source": [
    "df.columns #property "
   ]
  },
  {
   "cell_type": "code",
   "execution_count": 7,
   "id": "decfbfde",
   "metadata": {},
   "outputs": [
    {
     "data": {
      "text/plain": [
       "Order_ID          int64\n",
       "Date             object\n",
       "Customer_Name    object\n",
       "Region           object\n",
       "Product          object\n",
       "Quantity          int64\n",
       "Unit_Price        int64\n",
       "Total_Sales       int64\n",
       "dtype: object"
      ]
     },
     "execution_count": 7,
     "metadata": {},
     "output_type": "execute_result"
    }
   ],
   "source": [
    "df.dtypes #property"
   ]
  },
  {
   "cell_type": "code",
   "execution_count": 8,
   "id": "85587ac2",
   "metadata": {},
   "outputs": [
    {
     "data": {
      "text/plain": [
       "0    2\n",
       "1    5\n",
       "2    3\n",
       "3    1\n",
       "4    2\n",
       "5    1\n",
       "6    2\n",
       "7    4\n",
       "8    1\n",
       "9    3\n",
       "Name: Quantity, dtype: int64"
      ]
     },
     "execution_count": 8,
     "metadata": {},
     "output_type": "execute_result"
    }
   ],
   "source": [
    "df[\"Quantity\"]"
   ]
  },
  {
   "cell_type": "code",
   "execution_count": 9,
   "id": "5a6b2e95",
   "metadata": {},
   "outputs": [
    {
     "data": {
      "text/html": [
       "<div>\n",
       "<style scoped>\n",
       "    .dataframe tbody tr th:only-of-type {\n",
       "        vertical-align: middle;\n",
       "    }\n",
       "\n",
       "    .dataframe tbody tr th {\n",
       "        vertical-align: top;\n",
       "    }\n",
       "\n",
       "    .dataframe thead th {\n",
       "        text-align: right;\n",
       "    }\n",
       "</style>\n",
       "<table border=\"1\" class=\"dataframe\">\n",
       "  <thead>\n",
       "    <tr style=\"text-align: right;\">\n",
       "      <th></th>\n",
       "      <th>Order_ID</th>\n",
       "      <th>Date</th>\n",
       "      <th>Customer_Name</th>\n",
       "      <th>Region</th>\n",
       "      <th>Product</th>\n",
       "      <th>Quantity</th>\n",
       "      <th>Unit_Price</th>\n",
       "      <th>Total_Sales</th>\n",
       "    </tr>\n",
       "  </thead>\n",
       "  <tbody>\n",
       "    <tr>\n",
       "      <th>1</th>\n",
       "      <td>1002</td>\n",
       "      <td>06-01-2024</td>\n",
       "      <td>Arjun Das</td>\n",
       "      <td>West</td>\n",
       "      <td>Mouse</td>\n",
       "      <td>5</td>\n",
       "      <td>800</td>\n",
       "      <td>4000</td>\n",
       "    </tr>\n",
       "    <tr>\n",
       "      <th>7</th>\n",
       "      <td>1008</td>\n",
       "      <td>09-01-2024</td>\n",
       "      <td>Rahul Bose</td>\n",
       "      <td>South</td>\n",
       "      <td>Keyboard</td>\n",
       "      <td>4</td>\n",
       "      <td>1500</td>\n",
       "      <td>6000</td>\n",
       "    </tr>\n",
       "  </tbody>\n",
       "</table>\n",
       "</div>"
      ],
      "text/plain": [
       "   Order_ID        Date Customer_Name Region   Product  Quantity  Unit_Price  \\\n",
       "1      1002  06-01-2024     Arjun Das   West     Mouse         5         800   \n",
       "7      1008  09-01-2024    Rahul Bose  South  Keyboard         4        1500   \n",
       "\n",
       "   Total_Sales  \n",
       "1         4000  \n",
       "7         6000  "
      ]
     },
     "execution_count": 9,
     "metadata": {},
     "output_type": "execute_result"
    }
   ],
   "source": [
    "df[df[\"Quantity\"]>3]"
   ]
  },
  {
   "cell_type": "markdown",
   "id": "ad910281",
   "metadata": {},
   "source": [
    "# Class 1 Matplotlib"
   ]
  },
  {
   "cell_type": "code",
   "execution_count": 10,
   "id": "5717a488",
   "metadata": {},
   "outputs": [],
   "source": [
    "import matplotlib.pyplot as plt "
   ]
  },
  {
   "cell_type": "code",
   "execution_count": 11,
   "id": "f9cc63bb",
   "metadata": {},
   "outputs": [
    {
     "data": {
      "text/html": [
       "<div>\n",
       "<style scoped>\n",
       "    .dataframe tbody tr th:only-of-type {\n",
       "        vertical-align: middle;\n",
       "    }\n",
       "\n",
       "    .dataframe tbody tr th {\n",
       "        vertical-align: top;\n",
       "    }\n",
       "\n",
       "    .dataframe thead th {\n",
       "        text-align: right;\n",
       "    }\n",
       "</style>\n",
       "<table border=\"1\" class=\"dataframe\">\n",
       "  <thead>\n",
       "    <tr style=\"text-align: right;\">\n",
       "      <th></th>\n",
       "      <th>Month</th>\n",
       "      <th>Product_A</th>\n",
       "      <th>Product_B</th>\n",
       "      <th>Product_C</th>\n",
       "      <th>Advertising_Spend</th>\n",
       "      <th>Customer_Satisfaction</th>\n",
       "    </tr>\n",
       "  </thead>\n",
       "  <tbody>\n",
       "    <tr>\n",
       "      <th>0</th>\n",
       "      <td>Jan</td>\n",
       "      <td>120</td>\n",
       "      <td>90</td>\n",
       "      <td>60</td>\n",
       "      <td>15</td>\n",
       "      <td>7.8</td>\n",
       "    </tr>\n",
       "    <tr>\n",
       "      <th>1</th>\n",
       "      <td>Feb</td>\n",
       "      <td>130</td>\n",
       "      <td>95</td>\n",
       "      <td>65</td>\n",
       "      <td>16</td>\n",
       "      <td>8.0</td>\n",
       "    </tr>\n",
       "    <tr>\n",
       "      <th>2</th>\n",
       "      <td>Mar</td>\n",
       "      <td>150</td>\n",
       "      <td>110</td>\n",
       "      <td>70</td>\n",
       "      <td>18</td>\n",
       "      <td>8.2</td>\n",
       "    </tr>\n",
       "    <tr>\n",
       "      <th>3</th>\n",
       "      <td>Apr</td>\n",
       "      <td>170</td>\n",
       "      <td>120</td>\n",
       "      <td>80</td>\n",
       "      <td>20</td>\n",
       "      <td>8.4</td>\n",
       "    </tr>\n",
       "    <tr>\n",
       "      <th>4</th>\n",
       "      <td>May</td>\n",
       "      <td>160</td>\n",
       "      <td>130</td>\n",
       "      <td>90</td>\n",
       "      <td>22</td>\n",
       "      <td>8.1</td>\n",
       "    </tr>\n",
       "  </tbody>\n",
       "</table>\n",
       "</div>"
      ],
      "text/plain": [
       "  Month  Product_A  Product_B  Product_C  Advertising_Spend  \\\n",
       "0   Jan        120         90         60                 15   \n",
       "1   Feb        130         95         65                 16   \n",
       "2   Mar        150        110         70                 18   \n",
       "3   Apr        170        120         80                 20   \n",
       "4   May        160        130         90                 22   \n",
       "\n",
       "   Customer_Satisfaction  \n",
       "0                    7.8  \n",
       "1                    8.0  \n",
       "2                    8.2  \n",
       "3                    8.4  \n",
       "4                    8.1  "
      ]
     },
     "execution_count": 11,
     "metadata": {},
     "output_type": "execute_result"
    }
   ],
   "source": [
    "data = pd.read_csv(r\"D:\\Python\\20-hour-Python\\College\\AI_ML\\matplotlib.practice.csv\")\n",
    "data.head()"
   ]
  },
  {
   "cell_type": "code",
   "execution_count": 12,
   "id": "4bc93ccd",
   "metadata": {},
   "outputs": [
    {
     "data": {
      "image/png": "[encoded data removed]",
      "text/plain": [
       "<Figure size 800x500 with 1 Axes>"
      ]
     },
     "metadata": {},
     "output_type": "display_data"
    }
   ],
   "source": [
    "plt.figure(figsize=(8,5))\n",
    "plt.plot(data[\"Month\"], data[\"Product_A\"], label=\"Product A\", marker=\"o\")\n",
    "plt.plot(data[\"Month\"], data[\"Product_B\"], label=\"Product B\", marker=\"s\")\n",
    "plt.plot(data[\"Month\"], data[\"Product_C\"], label=\"Product C\", marker=\"^\")\n",
    "plt.title(\"Monthly Sales Trend\")\n",
    "plt.xlabel(\"Month\")\n",
    "plt.ylabel(\"Units Sold\")\n",
    "plt.legend()\n",
    "plt.grid(True)\n",
    "plt.show()\n"
   ]
  },
  {
   "cell_type": "code",
   "execution_count": 13,
   "id": "8b33e07c",
   "metadata": {},
   "outputs": [
    {
     "data": {
      "image/png": "[encoded data removed]",
      "text/plain": [
       "<Figure size 800x500 with 1 Axes>"
      ]
     },
     "metadata": {},
     "output_type": "display_data"
    }
   ],
   "source": [
    "plt.figure(figsize= (8,5))\n",
    "plt.bar(data[\"Month\"], data[\"Advertising_Spend\"], color =\"skyblue\", edgecolor = \"Black\")\n",
    "plt.title(\"Monthly Advertising Spend\")\n",
    "plt.xlabel(\"Month\")\n",
    "plt.ylabel(\"Spend (in $000s)\")\n",
    "plt.show()"
   ]
  },
  {
   "cell_type": "code",
   "execution_count": 14,
   "id": "6e2e964b",
   "metadata": {},
   "outputs": [
    {
     "data": {
      "image/png": "[encoded data removed]",
      "text/plain": [
       "<Figure size 640x480 with 1 Axes>"
      ]
     },
     "metadata": {},
     "output_type": "display_data"
    }
   ],
   "source": [
    "data[\"Total Sales\"] = data[[\"Product_A\", \"Product_B\", \"Product_C\"]].sum(axis=1)\n",
    "plt.Figure(figsize=(6,5))\n",
    "plt.scatter(data[\"Advertising_Spend\"], data[\"Total Sales\"], color =\"coral\")\n",
    "plt.title(\"Advertsing Spend vs Total Sales\")\n",
    "plt.xlabel(\"Advetising Spend ($000s)\")\n",
    "plt.ylabel(\"Total Sales (Units)\")\n",
    "plt.grid(True)\n",
    "plt.show()"
   ]
  },
  {
   "cell_type": "code",
   "execution_count": 15,
   "id": "fabcc5db",
   "metadata": {},
   "outputs": [
    {
     "data": {
      "image/png": "[encoded data removed]",
      "text/plain": [
       "<Figure size 600x400 with 1 Axes>"
      ]
     },
     "metadata": {},
     "output_type": "display_data"
    }
   ],
   "source": [
    "plt.figure(figsize=(6,4))\n",
    "plt.hist(data[\"Customer_Satisfaction\"], bins=5, color=\"lightgreen\", edgecolor =\"black\")\n",
    "plt.title(\"Distribution of Cutsomer Satisfaction\")\n",
    "plt.xlabel(\"Satisfaction Score\")\n",
    "plt.ylabel(\"Frequency\")\n",
    "plt.show()"
   ]
  },
  {
   "cell_type": "markdown",
   "id": "d4c44241",
   "metadata": {},
   "source": [
    "# Numpy Problems"
   ]
  },
  {
   "cell_type": "code",
   "execution_count": 16,
   "id": "40458922",
   "metadata": {},
   "outputs": [],
   "source": [
    "import numpy as np"
   ]
  },
  {
   "cell_type": "code",
   "execution_count": 17,
   "id": "83e48ad4",
   "metadata": {},
   "outputs": [],
   "source": [
    "data_emp = np.array([\n",
    "    [42, 10, 2, 35000],\n",
    "    [38, 8, 1, 32000],\n",
    "    [45, 12, 3, 40000],\n",
    "    [36, 9, 0, 30000],\n",
    "    [48, 15, 4, 42000],\n",
    "    [40, 11, 2, 36000],\n",
    "    [44, 13, 1, 39000]\n",
    "])"
   ]
  },
  {
   "cell_type": "code",
   "execution_count": 18,
   "id": "2fa41992",
   "metadata": {},
   "outputs": [],
   "source": [
    "columns_emp = np.array(['Hours_Worked', 'Tasks_Completed', 'Errors', 'Salary'])"
   ]
  },
  {
   "cell_type": "code",
   "execution_count": 19,
   "id": "45156a5e",
   "metadata": {},
   "outputs": [
    {
     "name": "stdout",
     "output_type": "stream",
     "text": [
      "Employee Data:\n",
      " [[   42    10     2 35000]\n",
      " [   38     8     1 32000]\n",
      " [   45    12     3 40000]\n",
      " [   36     9     0 30000]\n",
      " [   48    15     4 42000]\n",
      " [   40    11     2 36000]\n",
      " [   44    13     1 39000]]\n",
      "\n",
      "Columns: ['Hours_Worked' 'Tasks_Completed' 'Errors' 'Salary']\n"
     ]
    }
   ],
   "source": [
    "print(\"Employee Data:\\n\", data_emp)\n",
    "print(\"\\nColumns:\", columns_emp)"
   ]
  },
  {
   "cell_type": "code",
   "execution_count": 20,
   "id": "8e01d18c",
   "metadata": {},
   "outputs": [
    {
     "name": "stdout",
     "output_type": "stream",
     "text": [
      "Shape: (7, 4)\n",
      "Data Type: int64\n"
     ]
    }
   ],
   "source": [
    "print(\"Shape:\", data_emp.shape)\n",
    "print(\"Data Type:\", data_emp.dtype)"
   ]
  },
  {
   "cell_type": "code",
   "execution_count": 21,
   "id": "639c4206",
   "metadata": {},
   "outputs": [
    {
     "name": "stdout",
     "output_type": "stream",
     "text": [
      "Total tasks completed: 78\n"
     ]
    }
   ],
   "source": [
    "total_tasks = np.sum(data_emp[:, 1])\n",
    "print(\"Total tasks completed:\", total_tasks)"
   ]
  },
  {
   "cell_type": "code",
   "execution_count": 23,
   "id": "ff572def",
   "metadata": {},
   "outputs": [
    {
     "name": "stdout",
     "output_type": "stream",
     "text": [
      "Average Salary: 9085.142857142857\n"
     ]
    }
   ],
   "source": [
    "avg_salary = np.mean(data_emp[:])\n",
    "print(\"Average Salary:\", avg_salary)"
   ]
  },
  {
   "cell_type": "code",
   "execution_count": 24,
   "id": "5b630de1",
   "metadata": {},
   "outputs": [
    {
     "name": "stdout",
     "output_type": "stream",
     "text": [
      "Std Dev of Salary: 4025.4293724586773\n"
     ]
    }
   ],
   "source": [
    "print(\"Std Dev of Salary:\", np.std(data_emp[:, 3]))"
   ]
  },
  {
   "cell_type": "code",
   "execution_count": 26,
   "id": "97d5cb09",
   "metadata": {},
   "outputs": [
    {
     "name": "stdout",
     "output_type": "stream",
     "text": [
      "Max Salary: 42000\n",
      "Min Salary: 30000\n"
     ]
    }
   ],
   "source": [
    "print(\"Max Salary:\", np.max(data_emp[:]))\n",
    "print(\"Min Salary:\", np.min(data_emp[:, 3]))"
   ]
  }
 ],
 "metadata": {
  "kernelspec": {
   "display_name": "Python 3",
   "language": "python",
   "name": "python3"
  },
  "language_info": {
   "codemirror_mode": {
    "name": "ipython",
    "version": 3
   },
   "file_extension": ".py",
   "mimetype": "text/x-python",
   "name": "python",
   "nbconvert_exporter": "python",
   "pygments_lexer": "ipython3",
   "version": "3.13.0"
  }
 },
 "nbformat": 4,
 "nbformat_minor": 5
}
