{
 "cells": [
  {
   "cell_type": "code",
   "execution_count": 1,
   "id": "9febb9d4-6b36-4ebc-afd2-2338ff51808f",
   "metadata": {},
   "outputs": [],
   "source": [
    "import pandas as pd"
   ]
  },
  {
   "cell_type": "code",
   "execution_count": 2,
   "id": "85c2df03-8d65-4cc3-ba82-d7c0c2883c64",
   "metadata": {},
   "outputs": [],
   "source": [
    "df = pd.read_csv(\"pandas.practice.csv\")"
   ]
  },
  {
   "cell_type": "code",
   "execution_count": 3,
   "id": "c1b7cac6-8135-43ea-85e5-196f0a95c1c8",
   "metadata": {},
   "outputs": [
    {
     "name": "stdout",
     "output_type": "stream",
     "text": [
      "   Order_ID        Date Customer_Name Region   Product  Quantity  Unit_Price  \\\n",
      "0      1001  05-01-2024      Riya Sen   East    Laptop         2       55000   \n",
      "1      1002  06-01-2024     Arjun Das   West     Mouse         5         800   \n",
      "2      1003  06-01-2024     Meera Roy  North  Keyboard         3        1500   \n",
      "3      1004  07-01-2024    Neha Singh  South   Monitor         1       12000   \n",
      "4      1005  07-01-2024      Riya Sen   East     Mouse         2         800   \n",
      "5      1006  08-01-2024   Vikram Jain  North    Laptop         1       55000   \n",
      "6      1007  08-01-2024     Sneha Das   West   Monitor         2       12000   \n",
      "7      1008  09-01-2024    Rahul Bose  South  Keyboard         4        1500   \n",
      "8      1009  09-01-2024     Arjun Das   West    Laptop         1       55000   \n",
      "9      1010  10-01-2024    Neha Singh  South     Mouse         3         800   \n",
      "\n",
      "   Total_Sales  \n",
      "0       110000  \n",
      "1         4000  \n",
      "2         4500  \n",
      "3        12000  \n",
      "4         1600  \n",
      "5        55000  \n",
      "6        24000  \n",
      "7         6000  \n",
      "8        55000  \n",
      "9         2400  \n"
     ]
    }
   ],
   "source": [
    "print(df)"
   ]
  },
  {
   "cell_type": "code",
   "execution_count": 4,
   "id": "e7999b80-d4a2-4f40-9f34-32bd5dad0326",
   "metadata": {},
   "outputs": [
    {
     "data": {
      "text/html": [
       "<div>\n",
       "<style scoped>\n",
       "    .dataframe tbody tr th:only-of-type {\n",
       "        vertical-align: middle;\n",
       "    }\n",
       "\n",
       "    .dataframe tbody tr th {\n",
       "        vertical-align: top;\n",
       "    }\n",
       "\n",
       "    .dataframe thead th {\n",
       "        text-align: right;\n",
       "    }\n",
       "</style>\n",
       "<table border=\"1\" class=\"dataframe\">\n",
       "  <thead>\n",
       "    <tr style=\"text-align: right;\">\n",
       "      <th></th>\n",
       "      <th>Order_ID</th>\n",
       "      <th>Date</th>\n",
       "      <th>Customer_Name</th>\n",
       "      <th>Region</th>\n",
       "      <th>Product</th>\n",
       "      <th>Quantity</th>\n",
       "      <th>Unit_Price</th>\n",
       "      <th>Total_Sales</th>\n",
       "    </tr>\n",
       "  </thead>\n",
       "  <tbody>\n",
       "    <tr>\n",
       "      <th>0</th>\n",
       "      <td>1001</td>\n",
       "      <td>05-01-2024</td>\n",
       "      <td>Riya Sen</td>\n",
       "      <td>East</td>\n",
       "      <td>Laptop</td>\n",
       "      <td>2</td>\n",
       "      <td>55000</td>\n",
       "      <td>110000</td>\n",
       "    </tr>\n",
       "    <tr>\n",
       "      <th>1</th>\n",
       "      <td>1002</td>\n",
       "      <td>06-01-2024</td>\n",
       "      <td>Arjun Das</td>\n",
       "      <td>West</td>\n",
       "      <td>Mouse</td>\n",
       "      <td>5</td>\n",
       "      <td>800</td>\n",
       "      <td>4000</td>\n",
       "    </tr>\n",
       "    <tr>\n",
       "      <th>2</th>\n",
       "      <td>1003</td>\n",
       "      <td>06-01-2024</td>\n",
       "      <td>Meera Roy</td>\n",
       "      <td>North</td>\n",
       "      <td>Keyboard</td>\n",
       "      <td>3</td>\n",
       "      <td>1500</td>\n",
       "      <td>4500</td>\n",
       "    </tr>\n",
       "    <tr>\n",
       "      <th>3</th>\n",
       "      <td>1004</td>\n",
       "      <td>07-01-2024</td>\n",
       "      <td>Neha Singh</td>\n",
       "      <td>South</td>\n",
       "      <td>Monitor</td>\n",
       "      <td>1</td>\n",
       "      <td>12000</td>\n",
       "      <td>12000</td>\n",
       "    </tr>\n",
       "    <tr>\n",
       "      <th>4</th>\n",
       "      <td>1005</td>\n",
       "      <td>07-01-2024</td>\n",
       "      <td>Riya Sen</td>\n",
       "      <td>East</td>\n",
       "      <td>Mouse</td>\n",
       "      <td>2</td>\n",
       "      <td>800</td>\n",
       "      <td>1600</td>\n",
       "    </tr>\n",
       "  </tbody>\n",
       "</table>\n",
       "</div>"
      ],
      "text/plain": [
       "   Order_ID        Date Customer_Name Region   Product  Quantity  Unit_Price  \\\n",
       "0      1001  05-01-2024      Riya Sen   East    Laptop         2       55000   \n",
       "1      1002  06-01-2024     Arjun Das   West     Mouse         5         800   \n",
       "2      1003  06-01-2024     Meera Roy  North  Keyboard         3        1500   \n",
       "3      1004  07-01-2024    Neha Singh  South   Monitor         1       12000   \n",
       "4      1005  07-01-2024      Riya Sen   East     Mouse         2         800   \n",
       "\n",
       "   Total_Sales  \n",
       "0       110000  \n",
       "1         4000  \n",
       "2         4500  \n",
       "3        12000  \n",
       "4         1600  "
      ]
     },
     "execution_count": 4,
     "metadata": {},
     "output_type": "execute_result"
    }
   ],
   "source": [
    "df.head()"
   ]
  },
  {
   "cell_type": "code",
   "execution_count": 5,
   "id": "b7c557fc-8a0b-4855-b682-e891923e7801",
   "metadata": {},
   "outputs": [
    {
     "data": {
      "text/html": [
       "<div>\n",
       "<style scoped>\n",
       "    .dataframe tbody tr th:only-of-type {\n",
       "        vertical-align: middle;\n",
       "    }\n",
       "\n",
       "    .dataframe tbody tr th {\n",
       "        vertical-align: top;\n",
       "    }\n",
       "\n",
       "    .dataframe thead th {\n",
       "        text-align: right;\n",
       "    }\n",
       "</style>\n",
       "<table border=\"1\" class=\"dataframe\">\n",
       "  <thead>\n",
       "    <tr style=\"text-align: right;\">\n",
       "      <th></th>\n",
       "      <th>Order_ID</th>\n",
       "      <th>Date</th>\n",
       "      <th>Customer_Name</th>\n",
       "      <th>Region</th>\n",
       "      <th>Product</th>\n",
       "      <th>Quantity</th>\n",
       "      <th>Unit_Price</th>\n",
       "      <th>Total_Sales</th>\n",
       "    </tr>\n",
       "  </thead>\n",
       "  <tbody>\n",
       "    <tr>\n",
       "      <th>5</th>\n",
       "      <td>1006</td>\n",
       "      <td>08-01-2024</td>\n",
       "      <td>Vikram Jain</td>\n",
       "      <td>North</td>\n",
       "      <td>Laptop</td>\n",
       "      <td>1</td>\n",
       "      <td>55000</td>\n",
       "      <td>55000</td>\n",
       "    </tr>\n",
       "    <tr>\n",
       "      <th>6</th>\n",
       "      <td>1007</td>\n",
       "      <td>08-01-2024</td>\n",
       "      <td>Sneha Das</td>\n",
       "      <td>West</td>\n",
       "      <td>Monitor</td>\n",
       "      <td>2</td>\n",
       "      <td>12000</td>\n",
       "      <td>24000</td>\n",
       "    </tr>\n",
       "    <tr>\n",
       "      <th>7</th>\n",
       "      <td>1008</td>\n",
       "      <td>09-01-2024</td>\n",
       "      <td>Rahul Bose</td>\n",
       "      <td>South</td>\n",
       "      <td>Keyboard</td>\n",
       "      <td>4</td>\n",
       "      <td>1500</td>\n",
       "      <td>6000</td>\n",
       "    </tr>\n",
       "    <tr>\n",
       "      <th>8</th>\n",
       "      <td>1009</td>\n",
       "      <td>09-01-2024</td>\n",
       "      <td>Arjun Das</td>\n",
       "      <td>West</td>\n",
       "      <td>Laptop</td>\n",
       "      <td>1</td>\n",
       "      <td>55000</td>\n",
       "      <td>55000</td>\n",
       "    </tr>\n",
       "    <tr>\n",
       "      <th>9</th>\n",
       "      <td>1010</td>\n",
       "      <td>10-01-2024</td>\n",
       "      <td>Neha Singh</td>\n",
       "      <td>South</td>\n",
       "      <td>Mouse</td>\n",
       "      <td>3</td>\n",
       "      <td>800</td>\n",
       "      <td>2400</td>\n",
       "    </tr>\n",
       "  </tbody>\n",
       "</table>\n",
       "</div>"
      ],
      "text/plain": [
       "   Order_ID        Date Customer_Name Region   Product  Quantity  Unit_Price  \\\n",
       "5      1006  08-01-2024   Vikram Jain  North    Laptop         1       55000   \n",
       "6      1007  08-01-2024     Sneha Das   West   Monitor         2       12000   \n",
       "7      1008  09-01-2024    Rahul Bose  South  Keyboard         4        1500   \n",
       "8      1009  09-01-2024     Arjun Das   West    Laptop         1       55000   \n",
       "9      1010  10-01-2024    Neha Singh  South     Mouse         3         800   \n",
       "\n",
       "   Total_Sales  \n",
       "5        55000  \n",
       "6        24000  \n",
       "7         6000  \n",
       "8        55000  \n",
       "9         2400  "
      ]
     },
     "execution_count": 5,
     "metadata": {},
     "output_type": "execute_result"
    }
   ],
   "source": [
    "df.tail() "
   ]
  },
  {
   "cell_type": "code",
   "execution_count": 6,
   "id": "51ecd0d4-7603-4da4-9d34-b4ff0dce9626",
   "metadata": {},
   "outputs": [
    {
     "name": "stdout",
     "output_type": "stream",
     "text": [
      "<class 'pandas.core.frame.DataFrame'>\n",
      "RangeIndex: 10 entries, 0 to 9\n",
      "Data columns (total 8 columns):\n",
      " #   Column         Non-Null Count  Dtype \n",
      "---  ------         --------------  ----- \n",
      " 0   Order_ID       10 non-null     int64 \n",
      " 1   Date           10 non-null     object\n",
      " 2   Customer_Name  10 non-null     object\n",
      " 3   Region         10 non-null     object\n",
      " 4   Product        10 non-null     object\n",
      " 5   Quantity       10 non-null     int64 \n",
      " 6   Unit_Price     10 non-null     int64 \n",
      " 7   Total_Sales    10 non-null     int64 \n",
      "dtypes: int64(4), object(4)\n",
      "memory usage: 772.0+ bytes\n"
     ]
    }
   ],
   "source": [
    "df.info()    "
   ]
  },
  {
   "cell_type": "code",
   "execution_count": 7,
   "id": "0ab828f8-5b71-4599-95a3-bdc5fb6eec09",
   "metadata": {},
   "outputs": [
    {
     "data": {
      "text/html": [
       "<div>\n",
       "<style scoped>\n",
       "    .dataframe tbody tr th:only-of-type {\n",
       "        vertical-align: middle;\n",
       "    }\n",
       "\n",
       "    .dataframe tbody tr th {\n",
       "        vertical-align: top;\n",
       "    }\n",
       "\n",
       "    .dataframe thead th {\n",
       "        text-align: right;\n",
       "    }\n",
       "</style>\n",
       "<table border=\"1\" class=\"dataframe\">\n",
       "  <thead>\n",
       "    <tr style=\"text-align: right;\">\n",
       "      <th></th>\n",
       "      <th>Order_ID</th>\n",
       "      <th>Quantity</th>\n",
       "      <th>Unit_Price</th>\n",
       "      <th>Total_Sales</th>\n",
       "    </tr>\n",
       "  </thead>\n",
       "  <tbody>\n",
       "    <tr>\n",
       "      <th>count</th>\n",
       "      <td>10.00000</td>\n",
       "      <td>10.000000</td>\n",
       "      <td>10.000000</td>\n",
       "      <td>10.000000</td>\n",
       "    </tr>\n",
       "    <tr>\n",
       "      <th>mean</th>\n",
       "      <td>1005.50000</td>\n",
       "      <td>2.400000</td>\n",
       "      <td>19440.000000</td>\n",
       "      <td>27450.000000</td>\n",
       "    </tr>\n",
       "    <tr>\n",
       "      <th>std</th>\n",
       "      <td>3.02765</td>\n",
       "      <td>1.349897</td>\n",
       "      <td>24922.733932</td>\n",
       "      <td>35614.517951</td>\n",
       "    </tr>\n",
       "    <tr>\n",
       "      <th>min</th>\n",
       "      <td>1001.00000</td>\n",
       "      <td>1.000000</td>\n",
       "      <td>800.000000</td>\n",
       "      <td>1600.000000</td>\n",
       "    </tr>\n",
       "    <tr>\n",
       "      <th>25%</th>\n",
       "      <td>1003.25000</td>\n",
       "      <td>1.250000</td>\n",
       "      <td>975.000000</td>\n",
       "      <td>4125.000000</td>\n",
       "    </tr>\n",
       "    <tr>\n",
       "      <th>50%</th>\n",
       "      <td>1005.50000</td>\n",
       "      <td>2.000000</td>\n",
       "      <td>6750.000000</td>\n",
       "      <td>9000.000000</td>\n",
       "    </tr>\n",
       "    <tr>\n",
       "      <th>75%</th>\n",
       "      <td>1007.75000</td>\n",
       "      <td>3.000000</td>\n",
       "      <td>44250.000000</td>\n",
       "      <td>47250.000000</td>\n",
       "    </tr>\n",
       "    <tr>\n",
       "      <th>max</th>\n",
       "      <td>1010.00000</td>\n",
       "      <td>5.000000</td>\n",
       "      <td>55000.000000</td>\n",
       "      <td>110000.000000</td>\n",
       "    </tr>\n",
       "  </tbody>\n",
       "</table>\n",
       "</div>"
      ],
      "text/plain": [
       "         Order_ID   Quantity    Unit_Price    Total_Sales\n",
       "count    10.00000  10.000000     10.000000      10.000000\n",
       "mean   1005.50000   2.400000  19440.000000   27450.000000\n",
       "std       3.02765   1.349897  24922.733932   35614.517951\n",
       "min    1001.00000   1.000000    800.000000    1600.000000\n",
       "25%    1003.25000   1.250000    975.000000    4125.000000\n",
       "50%    1005.50000   2.000000   6750.000000    9000.000000\n",
       "75%    1007.75000   3.000000  44250.000000   47250.000000\n",
       "max    1010.00000   5.000000  55000.000000  110000.000000"
      ]
     },
     "execution_count": 7,
     "metadata": {},
     "output_type": "execute_result"
    }
   ],
   "source": [
    "df.describe()"
   ]
  },
  {
   "cell_type": "code",
   "execution_count": 8,
   "id": "db7999e0-8450-40ad-9d3c-3c97e2ed4b45",
   "metadata": {},
   "outputs": [
    {
     "data": {
      "text/plain": [
       "(10, 8)"
      ]
     },
     "execution_count": 8,
     "metadata": {},
     "output_type": "execute_result"
    }
   ],
   "source": [
    "df.shape "
   ]
  },
  {
   "cell_type": "code",
   "execution_count": 9,
   "id": "2baab432-a8af-49e5-960d-d131df784f8c",
   "metadata": {},
   "outputs": [
    {
     "data": {
      "text/plain": [
       "Index(['Order_ID', 'Date', 'Customer_Name', 'Region', 'Product', 'Quantity',\n",
       "       'Unit_Price', 'Total_Sales'],\n",
       "      dtype='object')"
      ]
     },
     "execution_count": 9,
     "metadata": {},
     "output_type": "execute_result"
    }
   ],
   "source": [
    "df.columns"
   ]
  },
  {
   "cell_type": "code",
   "execution_count": 8,
   "id": "2b95d0b9-7f8c-4700-8075-cf4f8a5c9501",
   "metadata": {},
   "outputs": [
    {
     "data": {
      "text/plain": [
       "Order_ID          int64\n",
       "Date             object\n",
       "Customer_Name    object\n",
       "Region           object\n",
       "Product          object\n",
       "Quantity          int64\n",
       "Unit_Price        int64\n",
       "Total_Sales       int64\n",
       "dtype: object"
      ]
     },
     "execution_count": 8,
     "metadata": {},
     "output_type": "execute_result"
    }
   ],
   "source": [
    "df.dtypes"
   ]
  },
  {
   "cell_type": "code",
   "execution_count": 9,
   "id": "b12a0214-fc61-4f54-b611-bf111ac01777",
   "metadata": {},
   "outputs": [
    {
     "data": {
      "text/plain": [
       "0    2\n",
       "1    5\n",
       "2    3\n",
       "3    1\n",
       "4    2\n",
       "5    1\n",
       "6    2\n",
       "7    4\n",
       "8    1\n",
       "9    3\n",
       "Name: Quantity, dtype: int64"
      ]
     },
     "execution_count": 9,
     "metadata": {},
     "output_type": "execute_result"
    }
   ],
   "source": [
    "df['Quantity']"
   ]
  },
  {
   "cell_type": "code",
   "execution_count": 10,
   "id": "7e4a8d2b-f286-4479-a658-02b21e352727",
   "metadata": {},
   "outputs": [
    {
     "data": {
      "text/html": [
       "<div>\n",
       "<style scoped>\n",
       "    .dataframe tbody tr th:only-of-type {\n",
       "        vertical-align: middle;\n",
       "    }\n",
       "\n",
       "    .dataframe tbody tr th {\n",
       "        vertical-align: top;\n",
       "    }\n",
       "\n",
       "    .dataframe thead th {\n",
       "        text-align: right;\n",
       "    }\n",
       "</style>\n",
       "<table border=\"1\" class=\"dataframe\">\n",
       "  <thead>\n",
       "    <tr style=\"text-align: right;\">\n",
       "      <th></th>\n",
       "      <th>Order_ID</th>\n",
       "      <th>Date</th>\n",
       "      <th>Customer_Name</th>\n",
       "      <th>Region</th>\n",
       "      <th>Product</th>\n",
       "      <th>Quantity</th>\n",
       "      <th>Unit_Price</th>\n",
       "      <th>Total_Sales</th>\n",
       "    </tr>\n",
       "  </thead>\n",
       "  <tbody>\n",
       "    <tr>\n",
       "      <th>1</th>\n",
       "      <td>1002</td>\n",
       "      <td>06-01-2024</td>\n",
       "      <td>Arjun Das</td>\n",
       "      <td>West</td>\n",
       "      <td>Mouse</td>\n",
       "      <td>5</td>\n",
       "      <td>800</td>\n",
       "      <td>4000</td>\n",
       "    </tr>\n",
       "    <tr>\n",
       "      <th>7</th>\n",
       "      <td>1008</td>\n",
       "      <td>09-01-2024</td>\n",
       "      <td>Rahul Bose</td>\n",
       "      <td>South</td>\n",
       "      <td>Keyboard</td>\n",
       "      <td>4</td>\n",
       "      <td>1500</td>\n",
       "      <td>6000</td>\n",
       "    </tr>\n",
       "  </tbody>\n",
       "</table>\n",
       "</div>"
      ],
      "text/plain": [
       "   Order_ID        Date Customer_Name Region   Product  Quantity  Unit_Price  \\\n",
       "1      1002  06-01-2024     Arjun Das   West     Mouse         5         800   \n",
       "7      1008  09-01-2024    Rahul Bose  South  Keyboard         4        1500   \n",
       "\n",
       "   Total_Sales  \n",
       "1         4000  \n",
       "7         6000  "
      ]
     },
     "execution_count": 10,
     "metadata": {},
     "output_type": "execute_result"
    }
   ],
   "source": [
    "df[df['Quantity'] > 3] "
   ]
  },
  {
   "cell_type": "code",
   "execution_count": null,
   "id": "85238446-a2f2-4cff-987c-407bd1e22c15",
   "metadata": {},
   "outputs": [],
   "source": []
  }
 ],
 "metadata": {
  "kernelspec": {
   "display_name": "Python 3 (ipykernel)",
   "language": "python",
   "name": "python3"
  },
  "language_info": {
   "codemirror_mode": {
    "name": "ipython",
    "version": 3
   },
   "file_extension": ".py",
   "mimetype": "text/x-python",
   "name": "python",
   "nbconvert_exporter": "python",
   "pygments_lexer": "ipython3",
   "version": "3.11.9"
  }
 },
 "nbformat": 4,
 "nbformat_minor": 5
}
