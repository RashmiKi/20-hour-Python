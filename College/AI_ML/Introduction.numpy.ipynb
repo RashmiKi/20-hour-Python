{
 "cells": [
  {
   "cell_type": "code",
   "execution_count": 1,
   "id": "ece42a8e-fcb1-4590-8041-9c38eac8c679",
   "metadata": {},
   "outputs": [],
   "source": [
    "import numpy as np"
   ]
  },
  {
   "cell_type": "code",
   "execution_count": 2,
   "id": "7535b998-9df6-435e-bb0e-86c0631eb37e",
   "metadata": {},
   "outputs": [],
   "source": [
    "data_emp = np.array([\n",
    "    [42, 10, 2, 35000],\n",
    "    [38, 8, 1, 32000],\n",
    "    [45, 12, 3, 40000],\n",
    "    [36, 9, 0, 30000],\n",
    "    [48, 15, 4, 42000],\n",
    "    [40, 11, 2, 36000],\n",
    "    [44, 13, 1, 39000]\n",
    "])"
   ]
  },
  {
   "cell_type": "code",
   "execution_count": 3,
   "id": "376ae166-614f-4c50-bb7f-25e74ee659ca",
   "metadata": {},
   "outputs": [],
   "source": [
    "columns_emp = np.array(['Hours_Worked', 'Tasks_Completed', 'Errors', 'Salary'])"
   ]
  },
  {
   "cell_type": "code",
   "execution_count": 4,
   "id": "e55cf9d1-ae79-4485-bcc0-98b8cfd6a5c5",
   "metadata": {},
   "outputs": [
    {
     "name": "stdout",
     "output_type": "stream",
     "text": [
      "Employee Data:\n",
      " [[   42    10     2 35000]\n",
      " [   38     8     1 32000]\n",
      " [   45    12     3 40000]\n",
      " [   36     9     0 30000]\n",
      " [   48    15     4 42000]\n",
      " [   40    11     2 36000]\n",
      " [   44    13     1 39000]]\n",
      "\n",
      "Columns: ['Hours_Worked' 'Tasks_Completed' 'Errors' 'Salary']\n"
     ]
    }
   ],
   "source": [
    "print(\"Employee Data:\\n\", data_emp)\n",
    "print(\"\\nColumns:\", columns_emp)"
   ]
  },
  {
   "cell_type": "code",
   "execution_count": 5,
   "id": "31f7b665-4f6c-427f-8e5b-d3cd0ee5e69c",
   "metadata": {},
   "outputs": [
    {
     "name": "stdout",
     "output_type": "stream",
     "text": [
      "Shape: (7, 4)\n",
      "Data Type: int64\n"
     ]
    }
   ],
   "source": [
    "print(\"Shape:\", data_emp.shape)\n",
    "print(\"Data Type:\", data_emp.dtype)"
   ]
  },
  {
   "cell_type": "code",
   "execution_count": 6,
   "id": "043eefe8-65b3-4644-97b9-df34c5f238c8",
   "metadata": {},
   "outputs": [
    {
     "name": "stdout",
     "output_type": "stream",
     "text": [
      "Total tasks completed: 78\n"
     ]
    }
   ],
   "source": [
    "total_tasks = np.sum(data_emp[:, 1])\n",
    "print(\"Total tasks completed:\", total_tasks)"
   ]
  },
  {
   "cell_type": "code",
   "execution_count": 7,
   "id": "da9e514f-738a-44c3-bd39-8449c658cf68",
   "metadata": {},
   "outputs": [
    {
     "name": "stdout",
     "output_type": "stream",
     "text": [
      "Average Salary: 36285.71428571428\n"
     ]
    }
   ],
   "source": [
    "avg_salary = np.mean(data_emp[:, 3])\n",
    "print(\"Average Salary:\", avg_salary)"
   ]
  },
  {
   "cell_type": "code",
   "execution_count": 8,
   "id": "b238bbd7-3cc6-42ca-bb77-92a7cae7a460",
   "metadata": {},
   "outputs": [
    {
     "name": "stdout",
     "output_type": "stream",
     "text": [
      "Std Dev of Salary: 4025.4293724586773\n"
     ]
    }
   ],
   "source": [
    "print(\"Std Dev of Salary:\", np.std(data_emp[:, 3]))"
   ]
  },
  {
   "cell_type": "code",
   "execution_count": 9,
   "id": "bf8e7bf1-d8f0-4b13-b469-7d2f27a89a49",
   "metadata": {},
   "outputs": [
    {
     "name": "stdout",
     "output_type": "stream",
     "text": [
      "Max Salary: 42000\n",
      "Min Salary: 30000\n"
     ]
    }
   ],
   "source": [
    "print(\"Max Salary:\", np.max(data_emp[:, 3]))\n",
    "print(\"Min Salary:\", np.min(data_emp[:, 3]))"
   ]
  },
  {
   "cell_type": "code",
   "execution_count": null,
   "id": "efb951f6-764b-4324-b5a3-a9cbe6a2107d",
   "metadata": {},
   "outputs": [],
   "source": []
  }
 ],
 "metadata": {
  "kernelspec": {
   "display_name": "Python 3 (ipykernel)",
   "language": "python",
   "name": "python3"
  },
  "language_info": {
   "codemirror_mode": {
    "name": "ipython",
    "version": 3
   },
   "file_extension": ".py",
   "mimetype": "text/x-python",
   "name": "python",
   "nbconvert_exporter": "python",
   "pygments_lexer": "ipython3",
   "version": "3.11.9"
  }
 },
 "nbformat": 4,
 "nbformat_minor": 5
}
