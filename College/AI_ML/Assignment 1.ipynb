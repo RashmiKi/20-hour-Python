{
 "cells": [
  {
   "cell_type": "markdown",
   "id": "c222d2a7",
   "metadata": {},
   "source": [
    "# Assignment 1 by Rashmi Kiran"
   ]
  },
  {
   "cell_type": "code",
   "execution_count": 1,
   "id": "936fca7b",
   "metadata": {},
   "outputs": [],
   "source": [
    "import numpy as np\n",
    "import pandas as pd\n",
    "import matplotlib.pyplot as plt\n",
    "import seaborn as sns\n",
    "from sklearn.impute import SimpleImputer\n",
    "from sklearn.model_selection import train_test_split"
   ]
  },
  {
   "cell_type": "code",
   "execution_count": 2,
   "id": "26dc1b59",
   "metadata": {},
   "outputs": [],
   "source": [
    "df = sns.load_dataset(\"titanic\")"
   ]
  },
  {
   "cell_type": "code",
   "execution_count": 3,
   "id": "5586a4fd",
   "metadata": {},
   "outputs": [
    {
     "data": {
      "text/html": [
       "<div>\n",
       "<style scoped>\n",
       "    .dataframe tbody tr th:only-of-type {\n",
       "        vertical-align: middle;\n",
       "    }\n",
       "\n",
       "    .dataframe tbody tr th {\n",
       "        vertical-align: top;\n",
       "    }\n",
       "\n",
       "    .dataframe thead th {\n",
       "        text-align: right;\n",
       "    }\n",
       "</style>\n",
       "<table border=\"1\" class=\"dataframe\">\n",
       "  <thead>\n",
       "    <tr style=\"text-align: right;\">\n",
       "      <th></th>\n",
       "      <th>survived</th>\n",
       "      <th>pclass</th>\n",
       "      <th>sex</th>\n",
       "      <th>age</th>\n",
       "      <th>sibsp</th>\n",
       "      <th>parch</th>\n",
       "      <th>fare</th>\n",
       "      <th>embarked</th>\n",
       "      <th>class</th>\n",
       "      <th>who</th>\n",
       "      <th>adult_male</th>\n",
       "      <th>deck</th>\n",
       "      <th>embark_town</th>\n",
       "      <th>alive</th>\n",
       "      <th>alone</th>\n",
       "    </tr>\n",
       "  </thead>\n",
       "  <tbody>\n",
       "    <tr>\n",
       "      <th>0</th>\n",
       "      <td>0</td>\n",
       "      <td>3</td>\n",
       "      <td>male</td>\n",
       "      <td>22.0</td>\n",
       "      <td>1</td>\n",
       "      <td>0</td>\n",
       "      <td>7.2500</td>\n",
       "      <td>S</td>\n",
       "      <td>Third</td>\n",
       "      <td>man</td>\n",
       "      <td>True</td>\n",
       "      <td>NaN</td>\n",
       "      <td>Southampton</td>\n",
       "      <td>no</td>\n",
       "      <td>False</td>\n",
       "    </tr>\n",
       "    <tr>\n",
       "      <th>1</th>\n",
       "      <td>1</td>\n",
       "      <td>1</td>\n",
       "      <td>female</td>\n",
       "      <td>38.0</td>\n",
       "      <td>1</td>\n",
       "      <td>0</td>\n",
       "      <td>71.2833</td>\n",
       "      <td>C</td>\n",
       "      <td>First</td>\n",
       "      <td>woman</td>\n",
       "      <td>False</td>\n",
       "      <td>C</td>\n",
       "      <td>Cherbourg</td>\n",
       "      <td>yes</td>\n",
       "      <td>False</td>\n",
       "    </tr>\n",
       "    <tr>\n",
       "      <th>2</th>\n",
       "      <td>1</td>\n",
       "      <td>3</td>\n",
       "      <td>female</td>\n",
       "      <td>26.0</td>\n",
       "      <td>0</td>\n",
       "      <td>0</td>\n",
       "      <td>7.9250</td>\n",
       "      <td>S</td>\n",
       "      <td>Third</td>\n",
       "      <td>woman</td>\n",
       "      <td>False</td>\n",
       "      <td>NaN</td>\n",
       "      <td>Southampton</td>\n",
       "      <td>yes</td>\n",
       "      <td>True</td>\n",
       "    </tr>\n",
       "    <tr>\n",
       "      <th>3</th>\n",
       "      <td>1</td>\n",
       "      <td>1</td>\n",
       "      <td>female</td>\n",
       "      <td>35.0</td>\n",
       "      <td>1</td>\n",
       "      <td>0</td>\n",
       "      <td>53.1000</td>\n",
       "      <td>S</td>\n",
       "      <td>First</td>\n",
       "      <td>woman</td>\n",
       "      <td>False</td>\n",
       "      <td>C</td>\n",
       "      <td>Southampton</td>\n",
       "      <td>yes</td>\n",
       "      <td>False</td>\n",
       "    </tr>\n",
       "    <tr>\n",
       "      <th>4</th>\n",
       "      <td>0</td>\n",
       "      <td>3</td>\n",
       "      <td>male</td>\n",
       "      <td>35.0</td>\n",
       "      <td>0</td>\n",
       "      <td>0</td>\n",
       "      <td>8.0500</td>\n",
       "      <td>S</td>\n",
       "      <td>Third</td>\n",
       "      <td>man</td>\n",
       "      <td>True</td>\n",
       "      <td>NaN</td>\n",
       "      <td>Southampton</td>\n",
       "      <td>no</td>\n",
       "      <td>True</td>\n",
       "    </tr>\n",
       "  </tbody>\n",
       "</table>\n",
       "</div>"
      ],
      "text/plain": [
       "   survived  pclass     sex   age  sibsp  parch     fare embarked  class  \\\n",
       "0         0       3    male  22.0      1      0   7.2500        S  Third   \n",
       "1         1       1  female  38.0      1      0  71.2833        C  First   \n",
       "2         1       3  female  26.0      0      0   7.9250        S  Third   \n",
       "3         1       1  female  35.0      1      0  53.1000        S  First   \n",
       "4         0       3    male  35.0      0      0   8.0500        S  Third   \n",
       "\n",
       "     who  adult_male deck  embark_town alive  alone  \n",
       "0    man        True  NaN  Southampton    no  False  \n",
       "1  woman       False    C    Cherbourg   yes  False  \n",
       "2  woman       False  NaN  Southampton   yes   True  \n",
       "3  woman       False    C  Southampton   yes  False  \n",
       "4    man        True  NaN  Southampton    no   True  "
      ]
     },
     "execution_count": 3,
     "metadata": {},
     "output_type": "execute_result"
    }
   ],
   "source": [
    "df.head()"
   ]
  },
  {
   "cell_type": "code",
   "execution_count": 4,
   "id": "c6300da9",
   "metadata": {},
   "outputs": [],
   "source": [
    "x = df.iloc[: , 2:-2].values\n",
    "y = df.iloc[: , -2].values"
   ]
  },
  {
   "cell_type": "code",
   "execution_count": 5,
   "id": "0c5cb5a1",
   "metadata": {},
   "outputs": [
    {
     "name": "stdout",
     "output_type": "stream",
     "text": [
      "[['male' 22.0 1 ... True nan 'Southampton']\n",
      " ['female' 38.0 1 ... False 'C' 'Cherbourg']\n",
      " ['female' 26.0 0 ... False nan 'Southampton']\n",
      " ...\n",
      " ['female' nan 1 ... False nan 'Southampton']\n",
      " ['male' 26.0 0 ... True 'C' 'Cherbourg']\n",
      " ['male' 32.0 0 ... True nan 'Queenstown']]\n"
     ]
    }
   ],
   "source": [
    "print(x)"
   ]
  },
  {
   "cell_type": "code",
   "execution_count": 6,
   "id": "dadf93fe",
   "metadata": {},
   "outputs": [
    {
     "name": "stdout",
     "output_type": "stream",
     "text": [
      "['no' 'yes' 'yes' 'yes' 'no' 'no' 'no' 'no' 'yes' 'yes' 'yes' 'yes' 'no'\n",
      " 'no' 'no' 'yes' 'no' 'yes' 'no' 'yes' 'no' 'yes' 'yes' 'yes' 'no' 'yes'\n",
      " 'no' 'no' 'yes' 'no' 'no' 'yes' 'yes' 'no' 'no' 'no' 'yes' 'no' 'no'\n",
      " 'yes' 'no' 'no' 'no' 'yes' 'yes' 'no' 'no' 'yes' 'no' 'no' 'no' 'no'\n",
      " 'yes' 'yes' 'no' 'yes' 'yes' 'no' 'yes' 'no' 'no' 'yes' 'no' 'no' 'no'\n",
      " 'yes' 'yes' 'no' 'yes' 'no' 'no' 'no' 'no' 'no' 'yes' 'no' 'no' 'no'\n",
      " 'yes' 'yes' 'no' 'yes' 'yes' 'no' 'yes' 'yes' 'no' 'no' 'yes' 'no' 'no'\n",
      " 'no' 'no' 'no' 'no' 'no' 'no' 'yes' 'yes' 'no' 'no' 'no' 'no' 'no' 'no'\n",
      " 'no' 'yes' 'yes' 'no' 'yes' 'no' 'no' 'no' 'no' 'no' 'no' 'no' 'no' 'no'\n",
      " 'no' 'no' 'no' 'no' 'yes' 'no' 'yes' 'no' 'yes' 'yes' 'no' 'no' 'no' 'no'\n",
      " 'yes' 'no' 'no' 'yes' 'no' 'no' 'no' 'no' 'yes' 'yes' 'no' 'no' 'no'\n",
      " 'yes' 'no' 'no' 'no' 'no' 'yes' 'no' 'no' 'no' 'no' 'yes' 'no' 'no' 'no'\n",
      " 'no' 'yes' 'no' 'no' 'no' 'yes' 'yes' 'no' 'no' 'no' 'no' 'no' 'yes' 'no'\n",
      " 'no' 'no' 'no' 'no' 'no' 'no' 'no' 'no' 'no' 'yes' 'yes' 'no' 'yes' 'yes'\n",
      " 'no' 'no' 'yes' 'no' 'yes' 'yes' 'yes' 'yes' 'no' 'no' 'yes' 'no' 'no'\n",
      " 'no' 'no' 'no' 'yes' 'no' 'no' 'yes' 'yes' 'yes' 'no' 'yes' 'no' 'no'\n",
      " 'no' 'yes' 'yes' 'no' 'yes' 'no' 'yes' 'no' 'no' 'no' 'yes' 'no' 'yes'\n",
      " 'no' 'no' 'no' 'yes' 'no' 'no' 'yes' 'no' 'no' 'no' 'yes' 'no' 'no' 'no'\n",
      " 'yes' 'no' 'no' 'no' 'no' 'no' 'yes' 'yes' 'no' 'no' 'no' 'no' 'no' 'no'\n",
      " 'yes' 'yes' 'yes' 'yes' 'yes' 'no' 'yes' 'no' 'no' 'no' 'no' 'no' 'yes'\n",
      " 'yes' 'yes' 'no' 'yes' 'yes' 'no' 'yes' 'yes' 'no' 'no' 'no' 'yes' 'no'\n",
      " 'no' 'no' 'yes' 'no' 'no' 'yes' 'no' 'yes' 'yes' 'yes' 'yes' 'no' 'no'\n",
      " 'no' 'no' 'no' 'no' 'yes' 'yes' 'yes' 'yes' 'no' 'yes' 'no' 'yes' 'yes'\n",
      " 'yes' 'no' 'yes' 'yes' 'yes' 'no' 'no' 'no' 'yes' 'yes' 'no' 'yes' 'yes'\n",
      " 'no' 'no' 'yes' 'yes' 'no' 'yes' 'no' 'yes' 'yes' 'yes' 'yes' 'no' 'no'\n",
      " 'no' 'yes' 'no' 'no' 'yes' 'yes' 'no' 'yes' 'yes' 'no' 'no' 'no' 'yes'\n",
      " 'yes' 'yes' 'yes' 'no' 'no' 'no' 'no' 'no' 'no' 'no' 'yes' 'no' 'yes'\n",
      " 'yes' 'no' 'no' 'no' 'no' 'no' 'no' 'yes' 'yes' 'yes' 'yes' 'yes' 'no'\n",
      " 'no' 'no' 'no' 'yes' 'yes' 'no' 'no' 'no' 'yes' 'yes' 'no' 'yes' 'no'\n",
      " 'no' 'no' 'yes' 'no' 'yes' 'yes' 'yes' 'no' 'yes' 'yes' 'no' 'no' 'no'\n",
      " 'no' 'yes' 'yes' 'no' 'no' 'no' 'no' 'no' 'no' 'yes' 'no' 'no' 'no' 'no'\n",
      " 'yes' 'no' 'yes' 'no' 'yes' 'yes' 'no' 'no' 'no' 'no' 'no' 'no' 'no' 'no'\n",
      " 'yes' 'yes' 'no' 'yes' 'yes' 'yes' 'yes' 'no' 'no' 'yes' 'no' 'yes' 'no'\n",
      " 'no' 'yes' 'no' 'no' 'yes' 'yes' 'yes' 'yes' 'yes' 'yes' 'yes' 'no' 'no'\n",
      " 'no' 'yes' 'no' 'yes' 'no' 'yes' 'yes' 'no' 'yes' 'no' 'no' 'no' 'no'\n",
      " 'no' 'no' 'no' 'no' 'yes' 'no' 'no' 'yes' 'yes' 'no' 'no' 'no' 'no' 'no'\n",
      " 'yes' 'no' 'no' 'no' 'yes' 'yes' 'no' 'yes' 'no' 'no' 'yes' 'no' 'no'\n",
      " 'no' 'no' 'no' 'no' 'yes' 'no' 'no' 'no' 'no' 'no' 'no' 'no' 'yes' 'no'\n",
      " 'yes' 'yes' 'no' 'yes' 'yes' 'no' 'yes' 'yes' 'no' 'no' 'yes' 'no' 'yes'\n",
      " 'no' 'yes' 'no' 'no' 'yes' 'no' 'no' 'yes' 'no' 'no' 'no' 'yes' 'no' 'no'\n",
      " 'yes' 'no' 'yes' 'no' 'yes' 'no' 'yes' 'yes' 'no' 'no' 'yes' 'no' 'no'\n",
      " 'yes' 'yes' 'no' 'yes' 'yes' 'no' 'no' 'yes' 'yes' 'no' 'yes' 'no' 'yes'\n",
      " 'yes' 'no' 'no' 'no' 'no' 'no' 'no' 'no' 'no' 'no' 'yes' 'yes' 'yes'\n",
      " 'yes' 'yes' 'no' 'no' 'yes' 'yes' 'no' 'yes' 'yes' 'yes' 'no' 'no' 'no'\n",
      " 'yes' 'no' 'yes' 'no' 'no' 'no' 'yes' 'no' 'no' 'no' 'no' 'yes' 'no' 'no'\n",
      " 'yes' 'yes' 'no' 'no' 'no' 'yes' 'no' 'no' 'yes' 'yes' 'yes' 'no' 'no'\n",
      " 'yes' 'no' 'no' 'yes' 'no' 'no' 'yes' 'no' 'no' 'yes' 'yes' 'no' 'no'\n",
      " 'no' 'no' 'yes' 'no' 'no' 'yes' 'no' 'yes' 'no' 'no' 'yes' 'no' 'no' 'no'\n",
      " 'no' 'no' 'yes' 'no' 'yes' 'yes' 'yes' 'no' 'yes' 'no' 'yes' 'no' 'yes'\n",
      " 'no' 'yes' 'no' 'no' 'no' 'no' 'no' 'no' 'yes' 'no' 'no' 'no' 'yes' 'no'\n",
      " 'no' 'no' 'no' 'yes' 'yes' 'no' 'no' 'yes' 'no' 'no' 'no' 'yes' 'no'\n",
      " 'yes' 'no' 'yes' 'no' 'no' 'no' 'no' 'no' 'no' 'no' 'yes' 'yes' 'yes'\n",
      " 'yes' 'no' 'no' 'no' 'no' 'yes' 'no' 'no' 'yes' 'yes' 'no' 'no' 'no' 'no'\n",
      " 'yes' 'yes' 'yes' 'yes' 'yes' 'no' 'yes' 'no' 'no' 'no' 'yes' 'yes' 'no'\n",
      " 'no' 'yes' 'no' 'no' 'no' 'yes' 'no' 'yes' 'yes' 'no' 'no' 'yes' 'no'\n",
      " 'no' 'no' 'no' 'no' 'no' 'yes' 'no' 'no' 'yes' 'no' 'yes' 'no' 'yes' 'no'\n",
      " 'no' 'yes' 'no' 'no' 'yes' 'yes' 'no' 'no' 'yes' 'yes' 'no' 'no' 'no'\n",
      " 'yes' 'no' 'no' 'yes' 'yes' 'no' 'yes' 'no' 'no' 'no' 'no' 'no' 'no' 'no'\n",
      " 'no' 'yes' 'no' 'no' 'yes' 'no' 'yes' 'yes' 'yes' 'no' 'no' 'no' 'no'\n",
      " 'yes' 'no' 'yes' 'no' 'no' 'no' 'no' 'no' 'no' 'no' 'yes' 'yes' 'no' 'no'\n",
      " 'no' 'yes' 'yes' 'yes' 'yes' 'no' 'no' 'no' 'no' 'yes' 'no' 'no' 'no'\n",
      " 'no' 'no' 'no' 'no' 'no' 'no' 'no' 'yes' 'yes' 'no' 'yes' 'no' 'no' 'no'\n",
      " 'yes' 'yes' 'yes' 'yes' 'yes' 'no' 'no' 'no' 'yes' 'no' 'no' 'yes' 'yes'\n",
      " 'no' 'no' 'yes' 'no' 'no' 'no' 'no' 'no' 'no' 'yes' 'no' 'no' 'no' 'yes'\n",
      " 'no' 'yes' 'yes' 'yes' 'yes' 'no' 'no' 'no' 'yes' 'no' 'no' 'yes' 'yes'\n",
      " 'no' 'no' 'yes' 'no' 'yes' 'no' 'no' 'yes' 'yes' 'no' 'no' 'no' 'yes'\n",
      " 'yes' 'no' 'no' 'no' 'no' 'no' 'no' 'yes' 'no' 'yes' 'no']\n"
     ]
    }
   ],
   "source": [
    "print(y)"
   ]
  },
  {
   "cell_type": "code",
   "execution_count": 7,
   "id": "c6447bb8",
   "metadata": {},
   "outputs": [],
   "source": [
    "X_train, X_test, y_train, y_test = train_test_split(\n",
    "    x, y, test_size=0.2, random_state=42  \n",
    ")"
   ]
  },
  {
   "cell_type": "code",
   "execution_count": 8,
   "id": "8cd3e4bb",
   "metadata": {},
   "outputs": [
    {
     "name": "stdout",
     "output_type": "stream",
     "text": [
      "\n",
      "Shapes of the datasets:\n",
      "X_train: (712, 11)\n",
      "X_test: (179, 11)\n",
      "y_train: (712,)\n",
      "y_test: (179,)\n"
     ]
    }
   ],
   "source": [
    "print(\"\\nShapes of the datasets:\")\n",
    "print(\"X_train:\", X_train.shape)\n",
    "print(\"X_test:\", X_test.shape)\n",
    "print(\"y_train:\", y_train.shape)\n",
    "print(\"y_test:\", y_test.shape)"
   ]
  },
  {
   "cell_type": "code",
   "execution_count": null,
   "id": "c0c95b1f",
   "metadata": {},
   "outputs": [],
   "source": []
  }
 ],
 "metadata": {
  "kernelspec": {
   "display_name": "Python 3",
   "language": "python",
   "name": "python3"
  },
  "language_info": {
   "codemirror_mode": {
    "name": "ipython",
    "version": 3
   },
   "file_extension": ".py",
   "mimetype": "text/x-python",
   "name": "python",
   "nbconvert_exporter": "python",
   "pygments_lexer": "ipython3",
   "version": "3.13.0"
  }
 },
 "nbformat": 4,
 "nbformat_minor": 5
}
