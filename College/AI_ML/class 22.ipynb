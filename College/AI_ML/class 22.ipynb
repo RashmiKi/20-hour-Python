{
 "cells": [
  {
   "cell_type": "markdown",
   "id": "50d848db",
   "metadata": {},
   "source": [
    "# class 2.2"
   ]
  },
  {
   "cell_type": "code",
   "execution_count": 1,
   "id": "053aea7d",
   "metadata": {},
   "outputs": [],
   "source": [
    "import numpy as np\n",
    "import pandas as pd\n",
    "import matplotlib.pyplot as plt\n",
    "from sklearn.impute import SimpleImputer\n",
    "from sklearn.model_selection import train_test_split"
   ]
  },
  {
   "cell_type": "code",
   "execution_count": 2,
   "id": "0d5554dc",
   "metadata": {},
   "outputs": [],
   "source": [
    "df = pd.read_csv(r\"D:\\Python\\20-hour-Python\\College\\AI_ML\\Data Preprocessing.csv\")"
   ]
  },
  {
   "cell_type": "code",
   "execution_count": 3,
   "id": "a2a11a7c",
   "metadata": {},
   "outputs": [],
   "source": [
    "x = df.iloc[: , 2:-2].values\n",
    "y = df.iloc[: , -2].values"
   ]
  },
  {
   "cell_type": "code",
   "execution_count": 4,
   "id": "30a2245d",
   "metadata": {},
   "outputs": [
    {
     "name": "stdout",
     "output_type": "stream",
     "text": [
      "[[28.0 'Sales' 'Male' 3.0]\n",
      " [35.0 'HR' 'Female' 8.0]\n",
      " [nan 'IT' 'Male' 5.0]\n",
      " [29.0 'Finance' 'Female' 4.0]\n",
      " [41.0 'Sales' 'Male' 15.0]\n",
      " [24.0 'Marketing' 'Female' 1.0]\n",
      " [38.0 'IT' 'Male' 10.0]\n",
      " [27.0 'Finance' 'Female' 2.0]\n",
      " [32.0 'Sales' 'Male' 6.0]\n",
      " [26.0 'Marketing' 'Female' nan]]\n"
     ]
    }
   ],
   "source": [
    "print(x)"
   ]
  },
  {
   "cell_type": "code",
   "execution_count": 5,
   "id": "5a4cc7f4",
   "metadata": {},
   "outputs": [
    {
     "name": "stdout",
     "output_type": "stream",
     "text": [
      "[48000. 67000.    nan 59000. 85000. 35000. 78000. 48000. 61000. 42000.]\n"
     ]
    }
   ],
   "source": [
    "print(y)"
   ]
  },
  {
   "cell_type": "code",
   "execution_count": 6,
   "id": "a2a11308",
   "metadata": {},
   "outputs": [],
   "source": [
    "X_train, X_test, y_train, y_test = train_test_split(\n",
    "    x, y, test_size=0.2, random_state=42  \n",
    ")"
   ]
  },
  {
   "cell_type": "code",
   "execution_count": 7,
   "id": "edc0fe8c",
   "metadata": {},
   "outputs": [
    {
     "name": "stdout",
     "output_type": "stream",
     "text": [
      "\n",
      "Shapes of the datasets:\n",
      "X_train: (8, 4)\n",
      "X_test: (2, 4)\n",
      "y_train: (8,)\n",
      "y_test: (2,)\n"
     ]
    }
   ],
   "source": [
    "print(\"\\nShapes of the datasets:\")\n",
    "print(\"X_train:\", X_train.shape)\n",
    "print(\"X_test:\", X_test.shape)\n",
    "print(\"y_train:\", y_train.shape)\n",
    "print(\"y_test:\", y_test.shape)"
   ]
  }
 ],
 "metadata": {
  "kernelspec": {
   "display_name": "Python 3",
   "language": "python",
   "name": "python3"
  },
  "language_info": {
   "codemirror_mode": {
    "name": "ipython",
    "version": 3
   },
   "file_extension": ".py",
   "mimetype": "text/x-python",
   "name": "python",
   "nbconvert_exporter": "python",
   "pygments_lexer": "ipython3",
   "version": "3.13.0"
  }
 },
 "nbformat": 4,
 "nbformat_minor": 5
}
