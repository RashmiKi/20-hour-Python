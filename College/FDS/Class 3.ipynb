{
 "cells": [
  {
   "cell_type": "markdown",
   "id": "fb17fd51",
   "metadata": {},
   "source": [
    "# Hypothesis Testing"
   ]
  },
  {
   "cell_type": "code",
   "execution_count": 1,
   "id": "cf3774e9",
   "metadata": {},
   "outputs": [
    {
     "name": "stderr",
     "output_type": "stream",
     "text": [
      "\n",
      "[notice] A new release of pip is available: 24.2 -> 25.2\n",
      "[notice] To update, run: python.exe -m pip install --upgrade pip\n"
     ]
    },
    {
     "name": "stdout",
     "output_type": "stream",
     "text": [
      "Collecting scikit-posthocs\n",
      "  Downloading scikit_posthocs-0.11.4-py3-none-any.whl.metadata (5.8 kB)\n",
      "Requirement already satisfied: numpy in c:\\users\\rashmi\\appdata\\local\\programs\\python\\python313\\lib\\site-packages (from scikit-posthocs) (2.3.2)\n",
      "Collecting scipy>=1.9.0 (from scikit-posthocs)\n",
      "  Downloading scipy-1.16.2-cp313-cp313-win_amd64.whl.metadata (60 kB)\n",
      "Collecting statsmodels (from scikit-posthocs)\n",
      "  Downloading statsmodels-0.14.5-cp313-cp313-win_amd64.whl.metadata (9.8 kB)\n",
      "Requirement already satisfied: pandas>=0.20.0 in c:\\users\\rashmi\\appdata\\local\\programs\\python\\python313\\lib\\site-packages (from scikit-posthocs) (2.3.1)\n",
      "Requirement already satisfied: seaborn in c:\\users\\rashmi\\appdata\\local\\programs\\python\\python313\\lib\\site-packages (from scikit-posthocs) (0.13.2)\n",
      "Requirement already satisfied: matplotlib in c:\\users\\rashmi\\appdata\\local\\programs\\python\\python313\\lib\\site-packages (from scikit-posthocs) (3.10.5)\n",
      "Requirement already satisfied: python-dateutil>=2.8.2 in c:\\users\\rashmi\\appdata\\local\\programs\\python\\python313\\lib\\site-packages (from pandas>=0.20.0->scikit-posthocs) (2.9.0.post0)\n",
      "Requirement already satisfied: pytz>=2020.1 in c:\\users\\rashmi\\appdata\\local\\programs\\python\\python313\\lib\\site-packages (from pandas>=0.20.0->scikit-posthocs) (2025.2)\n",
      "Requirement already satisfied: tzdata>=2022.7 in c:\\users\\rashmi\\appdata\\local\\programs\\python\\python313\\lib\\site-packages (from pandas>=0.20.0->scikit-posthocs) (2025.2)\n",
      "Requirement already satisfied: contourpy>=1.0.1 in c:\\users\\rashmi\\appdata\\local\\programs\\python\\python313\\lib\\site-packages (from matplotlib->scikit-posthocs) (1.3.3)\n",
      "Requirement already satisfied: cycler>=0.10 in c:\\users\\rashmi\\appdata\\local\\programs\\python\\python313\\lib\\site-packages (from matplotlib->scikit-posthocs) (0.12.1)\n",
      "Requirement already satisfied: fonttools>=4.22.0 in c:\\users\\rashmi\\appdata\\local\\programs\\python\\python313\\lib\\site-packages (from matplotlib->scikit-posthocs) (4.59.0)\n",
      "Requirement already satisfied: kiwisolver>=1.3.1 in c:\\users\\rashmi\\appdata\\local\\programs\\python\\python313\\lib\\site-packages (from matplotlib->scikit-posthocs) (1.4.8)\n",
      "Requirement already satisfied: packaging>=20.0 in c:\\users\\rashmi\\appdata\\roaming\\python\\python313\\site-packages (from matplotlib->scikit-posthocs) (25.0)\n",
      "Requirement already satisfied: pillow>=8 in c:\\users\\rashmi\\appdata\\local\\programs\\python\\python313\\lib\\site-packages (from matplotlib->scikit-posthocs) (11.3.0)\n",
      "Requirement already satisfied: pyparsing>=2.3.1 in c:\\users\\rashmi\\appdata\\local\\programs\\python\\python313\\lib\\site-packages (from matplotlib->scikit-posthocs) (3.2.3)\n",
      "Collecting patsy>=0.5.6 (from statsmodels->scikit-posthocs)\n",
      "  Downloading patsy-1.0.2-py2.py3-none-any.whl.metadata (3.6 kB)\n",
      "Requirement already satisfied: six>=1.5 in c:\\users\\rashmi\\appdata\\local\\programs\\python\\python313\\lib\\site-packages (from python-dateutil>=2.8.2->pandas>=0.20.0->scikit-posthocs) (1.17.0)\n",
      "Downloading scikit_posthocs-0.11.4-py3-none-any.whl (33 kB)\n",
      "Downloading scipy-1.16.2-cp313-cp313-win_amd64.whl (38.5 MB)\n",
      "   ---------------------------------------- 0.0/38.5 MB ? eta -:--:--\n",
      "   - -------------------------------------- 1.3/38.5 MB 7.0 MB/s eta 0:00:06\n",
      "   --- ------------------------------------ 3.1/38.5 MB 7.7 MB/s eta 0:00:05\n",
      "   ---- ----------------------------------- 3.9/38.5 MB 7.1 MB/s eta 0:00:05\n",
      "   ---- ----------------------------------- 4.7/38.5 MB 5.9 MB/s eta 0:00:06\n",
      "   ----- ---------------------------------- 5.5/38.5 MB 5.6 MB/s eta 0:00:06\n",
      "   ------ --------------------------------- 6.6/38.5 MB 5.4 MB/s eta 0:00:06\n",
      "   ------- -------------------------------- 7.3/38.5 MB 5.1 MB/s eta 0:00:07\n",
      "   -------- ------------------------------- 8.4/38.5 MB 5.0 MB/s eta 0:00:06\n",
      "   --------- ------------------------------ 9.4/38.5 MB 5.1 MB/s eta 0:00:06\n",
      "   ---------- ----------------------------- 10.5/38.5 MB 5.1 MB/s eta 0:00:06\n",
      "   ------------ --------------------------- 12.1/38.5 MB 5.3 MB/s eta 0:00:06\n",
      "   ------------- -------------------------- 13.4/38.5 MB 5.4 MB/s eta 0:00:05\n",
      "   --------------- ------------------------ 14.9/38.5 MB 5.5 MB/s eta 0:00:05\n",
      "   ----------------- ---------------------- 16.5/38.5 MB 5.7 MB/s eta 0:00:04\n",
      "   ------------------- -------------------- 18.4/38.5 MB 5.8 MB/s eta 0:00:04\n",
      "   -------------------- ------------------- 19.9/38.5 MB 5.9 MB/s eta 0:00:04\n",
      "   ---------------------- ----------------- 21.5/38.5 MB 6.0 MB/s eta 0:00:03\n",
      "   ----------------------- ---------------- 23.1/38.5 MB 6.1 MB/s eta 0:00:03\n",
      "   ------------------------- -------------- 24.4/38.5 MB 6.2 MB/s eta 0:00:03\n",
      "   -------------------------- ------------- 26.0/38.5 MB 6.2 MB/s eta 0:00:03\n",
      "   ---------------------------- ----------- 27.5/38.5 MB 6.2 MB/s eta 0:00:02\n",
      "   ------------------------------ --------- 29.1/38.5 MB 6.3 MB/s eta 0:00:02\n",
      "   -------------------------------- ------- 30.9/38.5 MB 6.4 MB/s eta 0:00:02\n",
      "   --------------------------------- ------ 32.5/38.5 MB 6.4 MB/s eta 0:00:01\n",
      "   ----------------------------------- ---- 34.1/38.5 MB 6.5 MB/s eta 0:00:01\n",
      "   ------------------------------------- -- 35.7/38.5 MB 6.5 MB/s eta 0:00:01\n",
      "   -------------------------------------- - 37.2/38.5 MB 6.5 MB/s eta 0:00:01\n",
      "   ---------------------------------------  38.3/38.5 MB 6.6 MB/s eta 0:00:01\n",
      "   ---------------------------------------- 38.5/38.5 MB 6.4 MB/s eta 0:00:00\n",
      "Downloading statsmodels-0.14.5-cp313-cp313-win_amd64.whl (9.6 MB)\n",
      "   ---------------------------------------- 0.0/9.6 MB ? eta -:--:--\n",
      "   ------ --------------------------------- 1.6/9.6 MB 7.7 MB/s eta 0:00:02\n",
      "   ------------- -------------------------- 3.1/9.6 MB 7.9 MB/s eta 0:00:01\n",
      "   ------------------ --------------------- 4.5/9.6 MB 7.5 MB/s eta 0:00:01\n",
      "   --------------------- ------------------ 5.2/9.6 MB 7.2 MB/s eta 0:00:01\n",
      "   -------------------------- ------------- 6.3/9.6 MB 6.0 MB/s eta 0:00:01\n",
      "   ------------------------------ --------- 7.3/9.6 MB 5.8 MB/s eta 0:00:01\n",
      "   ------------------------------------ --- 8.7/9.6 MB 5.8 MB/s eta 0:00:01\n",
      "   ---------------------------------------- 9.6/9.6 MB 5.7 MB/s eta 0:00:00\n",
      "Downloading patsy-1.0.2-py2.py3-none-any.whl (233 kB)\n",
      "Installing collected packages: scipy, patsy, statsmodels, scikit-posthocs\n",
      "Successfully installed patsy-1.0.2 scikit-posthocs-0.11.4 scipy-1.16.2 statsmodels-0.14.5\n"
     ]
    }
   ],
   "source": [
    "!pip install scikit-posthocs\n",
    "import numpy as np\n",
    "from scipy import stats\n",
    "import pandas as pd\n",
    "pd.options.display.float_format = '{:,.4f}'.format\n",
    "# Test for Normality\n",
    "def check_normality(data):\n",
    "    test_stat_normality, p_value_normality=stats.shapiro(data)\n",
    "    print(\"p value:%.4f\" % p_value_normality)\n",
    "    if p_value_normality <0.05:\n",
    "        print(\"Reject null hypothesis >> The data is not normally distributed\")\n",
    "    else:\n",
    "        print(\"Fail to reject null hypothesis >> The data is normally distributed\")  "
   ]
  },
  {
   "cell_type": "code",
   "execution_count": 2,
   "id": "48a1cf5e",
   "metadata": {},
   "outputs": [],
   "source": [
    "def check_variance_homogeneity(group1, group2):\n",
    "    test_stat_var, p_value_var= stats.levene(group1,group2)\n",
    "    print(\"p value:%.4f\" % p_value_var)\n",
    "    if p_value_var <0.05:\n",
    "        print(\"Reject null hypothesis >> The variances of the samples are different.\")\n",
    "    else:\n",
    "        print(\"Fail to reject null hypothesis >> The variances of the samples are same.\")"
   ]
  },
  {
   "cell_type": "code",
   "execution_count": 3,
   "id": "4cc09a7f",
   "metadata": {},
   "outputs": [
    {
     "name": "stdout",
     "output_type": "stream",
     "text": [
      "p value:0.6556\n",
      "Fail to reject null hypothesis >> The data is normally distributed\n",
      "p value:0.0803\n",
      "Fail to reject null hypothesis >> The data is normally distributed\n"
     ]
    }
   ],
   "source": [
    "sync = np.array([94. , 84.9, 82.6, 69.5, 80.1, 79.6, 81.4, 77.8, 81.7, 78.8, 73.2,\n",
    "       87.9, 87.9, 93.5, 82.3, 79.3, 78.3, 71.6, 88.6, 74.6, 74.1, 80.6])\n",
    "asyncr =np.array([77.1, 71.7, 91. , 72.2, 74.8, 85.1, 67.6, 69.9, 75.3, 71.7, 65.7, 72.6, 71.5, 78.2])\n",
    "check_normality(sync)\n",
    "check_normality(asyncr)"
   ]
  },
  {
   "cell_type": "code",
   "execution_count": 4,
   "id": "7ae5bd4f",
   "metadata": {},
   "outputs": [
    {
     "name": "stdout",
     "output_type": "stream",
     "text": [
      "p value:0.8149\n",
      "Fail to reject null hypothesis >> The variances of the samples are same.\n"
     ]
    }
   ],
   "source": [
    "check_variance_homogeneity(sync, asyncr)"
   ]
  },
  {
   "cell_type": "code",
   "execution_count": 5,
   "id": "31f25c8c",
   "metadata": {},
   "outputs": [
    {
     "name": "stdout",
     "output_type": "stream",
     "text": [
      "p value:0.00753598\n",
      "since the hypothesis is one sided >> use p_value/2 >> p_value_one_sided:0.0038\n",
      "Reject null hypothesis\n"
     ]
    }
   ],
   "source": [
    "ttest,p_value = stats.ttest_ind(sync,asyncr)\n",
    "print(\"p value:%.8f\" % p_value)\n",
    "print(\"since the hypothesis is one sided >> use p_value/2 >> p_value_one_sided:%.4f\" %(p_value/2))\n",
    "if p_value/2 <0.05:\n",
    "    print(\"Reject null hypothesis\")\n",
    "else:\n",
    "    print(\"Fail to reject null hypothesis\") "
   ]
  },
  {
   "cell_type": "code",
   "execution_count": 6,
   "id": "7f5a9de3",
   "metadata": {},
   "outputs": [
    {
     "name": "stdout",
     "output_type": "stream",
     "text": [
      "p value:0.4694\n",
      "Fail to reject null hypothesis >> The data is normally distributed\n",
      "p value:0.8879\n",
      "Fail to reject null hypothesis >> The data is normally distributed\n",
      "p value:0.7973\n",
      "Fail to reject null hypothesis >> The data is normally distributed\n",
      "p value:0.7673\n",
      "Fail to reject null hypothesis >> The variances of the samples are same.\n"
     ]
    }
   ],
   "source": [
    "only_breast=np.array([794.1, 716.9, 993. , 724.7, 760.9, 908.2, 659.3 , 690.8, 768.7,\n",
    "       717.3 , 630.7, 729.5, 714.1, 810.3, 583.5, 679.9, 865.1])\n",
    "\n",
    "only_formula=np.array([ 898.8,  881.2,  940.2,  966.2,  957.5, 1061.7, 1046.2,  980.4,\n",
    "        895.6,  919.7, 1074.1,  952.5,  796.3,  859.6,  871.1 , 1047.5,\n",
    "        919.1 , 1160.5,  996.9])\n",
    "\n",
    "both=np.array([976.4, 656.4, 861.2, 706.8, 718.5, 717.1, 759.8, 894.6, 867.6,\n",
    "       805.6, 765.4, 800.3, 789.9, 875.3, 740. , 799.4, 790.3, 795.2 ,\n",
    "       823.6, 818.7, 926.8, 791.7, 948.3])\n",
    "check_normality(only_breast)\n",
    "check_normality(only_formula)\n",
    "check_normality(both)\n",
    "#Variance Homogenity\n",
    "stat, pvalue_levene= stats.levene(only_breast,only_formula,both)\n",
    "\n",
    "print(\"p value:%.4f\" % pvalue_levene)\n",
    "if pvalue_levene <0.05:\n",
    "    print(\"Reject null hypothesis >> The variances of the samples are different.\")\n",
    "else:\n",
    "    print(\"Fail to reject null hypothesis >> The variances of the samples are same.\")"
   ]
  },
  {
   "cell_type": "code",
   "execution_count": 7,
   "id": "2a33c153",
   "metadata": {},
   "outputs": [
    {
     "name": "stdout",
     "output_type": "stream",
     "text": [
      "p value:0.000000\n",
      "Reject null hypothesis\n"
     ]
    },
    {
     "ename": "AttributeError",
     "evalue": "The '.style' accessor requires jinja2",
     "output_type": "error",
     "traceback": [
      "\u001b[31m---------------------------------------------------------------------------\u001b[39m",
      "\u001b[31mAttributeError\u001b[39m                            Traceback (most recent call last)",
      "\u001b[32m~\\AppData\\Local\\Temp\\ipykernel_8000\\1015260161.py\u001b[39m in \u001b[36m?\u001b[39m\u001b[34m()\u001b[39m\n\u001b[32m     13\u001b[39m \n\u001b[32m     14\u001b[39m group_names= [\u001b[33m\"only breast\"\u001b[39m, \u001b[33m\"only formula\"\u001b[39m,\u001b[33m\"both\"\u001b[39m]\n\u001b[32m     15\u001b[39m posthoc_df.columns= group_names\n\u001b[32m     16\u001b[39m posthoc_df.index= group_names\n\u001b[32m---> \u001b[39m\u001b[32m17\u001b[39m posthoc_df.style.applymap(\u001b[38;5;28;01mlambda\u001b[39;00m x: \u001b[33m\"background-color:violet\"\u001b[39m \u001b[38;5;28;01mif\u001b[39;00m x<\u001b[32m0.05\u001b[39m \u001b[38;5;28;01melse\u001b[39;00m \u001b[33m\"background-color: white\"\u001b[39m)\n",
      "\u001b[32mc:\\Users\\Rashmi\\AppData\\Local\\Programs\\Python\\Python313\\Lib\\site-packages\\pandas\\core\\generic.py\u001b[39m in \u001b[36m?\u001b[39m\u001b[34m(self, name)\u001b[39m\n\u001b[32m   6314\u001b[39m             \u001b[38;5;28;01mand\u001b[39;00m name \u001b[38;5;28;01mnot\u001b[39;00m \u001b[38;5;28;01min\u001b[39;00m self._accessors\n\u001b[32m   6315\u001b[39m             \u001b[38;5;28;01mand\u001b[39;00m self._info_axis._can_hold_identifiers_and_holds_name(name)\n\u001b[32m   6316\u001b[39m         ):\n\u001b[32m   6317\u001b[39m             \u001b[38;5;28;01mreturn\u001b[39;00m self[name]\n\u001b[32m-> \u001b[39m\u001b[32m6318\u001b[39m         \u001b[38;5;28;01mreturn\u001b[39;00m object.__getattribute__(self, name)\n",
      "\u001b[32mc:\\Users\\Rashmi\\AppData\\Local\\Programs\\Python\\Python313\\Lib\\site-packages\\pandas\\core\\frame.py\u001b[39m in \u001b[36m?\u001b[39m\u001b[34m(self)\u001b[39m\n\u001b[32m   1441\u001b[39m         \"\"\"\n\u001b[32m   1442\u001b[39m         \u001b[38;5;66;03m# Raise AttributeError so that inspect works even if jinja2 is not installed.\u001b[39;00m\n\u001b[32m   1443\u001b[39m         has_jinja2 = import_optional_dependency(\u001b[33m\"jinja2\"\u001b[39m, errors=\u001b[33m\"ignore\"\u001b[39m)\n\u001b[32m   1444\u001b[39m         \u001b[38;5;28;01mif\u001b[39;00m \u001b[38;5;28;01mnot\u001b[39;00m has_jinja2:\n\u001b[32m-> \u001b[39m\u001b[32m1445\u001b[39m             \u001b[38;5;28;01mraise\u001b[39;00m AttributeError(\u001b[33m\"The '.style' accessor requires jinja2\"\u001b[39m)\n\u001b[32m   1446\u001b[39m \n\u001b[32m   1447\u001b[39m         \u001b[38;5;28;01mfrom\u001b[39;00m pandas.io.formats.style \u001b[38;5;28;01mimport\u001b[39;00m Styler\n\u001b[32m   1448\u001b[39m \n",
      "\u001b[31mAttributeError\u001b[39m: The '.style' accessor requires jinja2"
     ]
    }
   ],
   "source": [
    "F, p_value = stats.f_oneway(only_breast,only_formula,both)\n",
    "print(\"p value:%.6f\" % p_value)\n",
    "if p_value <0.05:\n",
    "    print(\"Reject null hypothesis\")\n",
    "else:\n",
    "    print(\"Fail to reject null hypothesis\")\n",
    "#post hoc // pairwise comparisons\n",
    "# pip install scikit-posthocs\n",
    "# Pairwise T test for multiple comparisons of independent groups. May be used after a parametric ANOVA to do pairwise comparisons.\n",
    "\n",
    "import scikit_posthocs as sp\n",
    "posthoc_df= sp.posthoc_ttest([only_breast,only_formula,both], equal_var=True, p_adjust=\"bonferroni\")\n",
    "\n",
    "group_names= [\"only breast\", \"only formula\",\"both\"]\n",
    "posthoc_df.columns= group_names\n",
    "posthoc_df.index= group_names\n",
    "posthoc_df.style.applymap(lambda x: \"background-color:violet\" if x<0.05 else \"background-color: white\")"
   ]
  },
  {
   "cell_type": "code",
   "execution_count": null,
   "id": "7b07edb9",
   "metadata": {},
   "outputs": [],
   "source": []
  }
 ],
 "metadata": {
  "kernelspec": {
   "display_name": "Python 3",
   "language": "python",
   "name": "python3"
  },
  "language_info": {
   "codemirror_mode": {
    "name": "ipython",
    "version": 3
   },
   "file_extension": ".py",
   "mimetype": "text/x-python",
   "name": "python",
   "nbconvert_exporter": "python",
   "pygments_lexer": "ipython3",
   "version": "3.13.0"
  }
 },
 "nbformat": 4,
 "nbformat_minor": 5
}
